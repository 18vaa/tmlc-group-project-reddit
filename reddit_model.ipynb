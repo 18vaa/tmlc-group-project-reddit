{
  "nbformat": 4,
  "nbformat_minor": 2,
  "metadata": {
    "kernelspec": {
      "display_name": "Python 3",
      "language": "python",
      "name": "python3"
    },
    "language_info": {
      "codemirror_mode": {
        "name": "ipython",
        "version": 3
      },
      "file_extension": ".py",
      "mimetype": "text/x-python",
      "name": "python",
      "nbconvert_exporter": "python",
      "pygments_lexer": "ipython3",
      "version": "3.8.5"
    },
    "colab": {
      "name": "Reddit_File_Load.ipynb",
      "provenance": [],
      "collapsed_sections": []
    }
  },
  "cells": [
    {
      "cell_type": "code",
      "execution_count": 1,
      "source": [
        "import bz2\r\n",
        "import json\r\n",
        "import pandas as pd"
      ],
      "outputs": [],
      "metadata": {
        "id": "ez_xv7JO2qYT"
      }
    },
    {
      "cell_type": "code",
      "execution_count": 2,
      "source": [
        "!wget http://files.pushshift.io/reddit/comments/RC_2010-03.bz2"
      ],
      "outputs": [
        {
          "output_type": "stream",
          "name": "stdout",
          "text": [
            "--2021-08-02 07:20:00--  http://files.pushshift.io/reddit/comments/RC_2010-03.bz2\n",
            "Resolving files.pushshift.io (files.pushshift.io)... 104.21.55.251, 172.67.174.211, 2606:4700:3033::6815:37fb, ...\n",
            "Connecting to files.pushshift.io (files.pushshift.io)|104.21.55.251|:80... connected.\n",
            "HTTP request sent, awaiting response... 200 OK\n",
            "Length: 297251220 (283M) [application/octet-stream]\n",
            "Saving to: ‘RC_2010-03.bz2’\n",
            "\n",
            "RC_2010-03.bz2      100%[===================>] 283.48M  13.9MB/s    in 58s     \n",
            "\n",
            "2021-08-02 07:21:01 (4.86 MB/s) - ‘RC_2010-03.bz2’ saved [297251220/297251220]\n",
            "\n"
          ]
        }
      ],
      "metadata": {
        "colab": {
          "base_uri": "https://localhost:8080/"
        },
        "id": "7wY37DsD22FK",
        "outputId": "6ce1bd74-fe08-43e7-be8e-a1a2391ee39b"
      }
    },
    {
      "cell_type": "code",
      "execution_count": 2,
      "source": [
        "filename = '/content/RC_2010-03.bz2'"
      ],
      "outputs": [],
      "metadata": {
        "id": "9bvmeqjH2qYW"
      }
    },
    {
      "cell_type": "code",
      "execution_count": 3,
      "source": [
        "with bz2.open(filename, \"rt\") as bzinput:\r\n",
        "    lines = []\r\n",
        "    for i, line in enumerate(bzinput):\r\n",
        "        if i == 200000:\r\n",
        "            break\r\n",
        "        reddit = json.loads(line)\r\n",
        "        lines.append(reddit)"
      ],
      "outputs": [],
      "metadata": {
        "id": "-fsGP7Cq2qYX"
      }
    },
    {
      "cell_type": "code",
      "execution_count": 4,
      "source": [
        "df = pd.DataFrame(lines)"
      ],
      "outputs": [],
      "metadata": {
        "id": "DCOAlGUe2qYX"
      }
    },
    {
      "cell_type": "code",
      "execution_count": 5,
      "source": [
        "df"
      ],
      "outputs": [
        {
          "output_type": "execute_result",
          "data": {
            "text/plain": [
              "             id subreddit_id created_utc  ...        name    subreddit archived\n",
              "0       c0lcsl6     t5_2qh33  1267403856  ...  t1_c0lcsl6        funny     True\n",
              "1       c0lcsl7     t5_2qhk3  1267403877  ...  t1_c0lcsl7   MensRights     True\n",
              "2       c0lcsl8     t5_2qh1u  1267403902  ...  t1_c0lcsl8        Music     True\n",
              "3       c0lcsl9      t5_mouw  1267403929  ...  t1_c0lcsl9      science     True\n",
              "4       c0lcsla     t5_2qh61  1267403936  ...  t1_c0lcsla          WTF     True\n",
              "...         ...          ...         ...  ...         ...          ...      ...\n",
              "199995  c0lh3fk     t5_2cneq  1267568602  ...  t1_c0lh3fk     politics     True\n",
              "199996  c0lh3fl     t5_2qh87  1267568602  ...  t1_c0lh3fl        space     True\n",
              "199997  c0lh3fm      t5_2fwo  1267568603  ...  t1_c0lh3fm  programming     True\n",
              "199998  c0lh3fn     t5_2qh0u  1267568604  ...  t1_c0lh3fn         pics     True\n",
              "199999  c0lh3fo     t5_2qh61  1267568605  ...  t1_c0lh3fo          WTF     True\n",
              "\n",
              "[200000 rows x 21 columns]"
            ],
            "text/html": [
              "<div>\n",
              "<style scoped>\n",
              "    .dataframe tbody tr th:only-of-type {\n",
              "        vertical-align: middle;\n",
              "    }\n",
              "\n",
              "    .dataframe tbody tr th {\n",
              "        vertical-align: top;\n",
              "    }\n",
              "\n",
              "    .dataframe thead th {\n",
              "        text-align: right;\n",
              "    }\n",
              "</style>\n",
              "<table border=\"1\" class=\"dataframe\">\n",
              "  <thead>\n",
              "    <tr style=\"text-align: right;\">\n",
              "      <th></th>\n",
              "      <th>id</th>\n",
              "      <th>subreddit_id</th>\n",
              "      <th>created_utc</th>\n",
              "      <th>score_hidden</th>\n",
              "      <th>link_id</th>\n",
              "      <th>edited</th>\n",
              "      <th>parent_id</th>\n",
              "      <th>score</th>\n",
              "      <th>ups</th>\n",
              "      <th>downs</th>\n",
              "      <th>author_flair_css_class</th>\n",
              "      <th>retrieved_on</th>\n",
              "      <th>gilded</th>\n",
              "      <th>controversiality</th>\n",
              "      <th>author</th>\n",
              "      <th>author_flair_text</th>\n",
              "      <th>distinguished</th>\n",
              "      <th>body</th>\n",
              "      <th>name</th>\n",
              "      <th>subreddit</th>\n",
              "      <th>archived</th>\n",
              "    </tr>\n",
              "  </thead>\n",
              "  <tbody>\n",
              "    <tr>\n",
              "      <th>0</th>\n",
              "      <td>c0lcsl6</td>\n",
              "      <td>t5_2qh33</td>\n",
              "      <td>1267403856</td>\n",
              "      <td>False</td>\n",
              "      <td>t3_b7i0u</td>\n",
              "      <td>False</td>\n",
              "      <td>t1_c0lcgz0</td>\n",
              "      <td>1</td>\n",
              "      <td>1</td>\n",
              "      <td>0</td>\n",
              "      <td>None</td>\n",
              "      <td>1426228099</td>\n",
              "      <td>0</td>\n",
              "      <td>0</td>\n",
              "      <td>[deleted]</td>\n",
              "      <td>None</td>\n",
              "      <td>None</td>\n",
              "      <td>[deleted]</td>\n",
              "      <td>t1_c0lcsl6</td>\n",
              "      <td>funny</td>\n",
              "      <td>True</td>\n",
              "    </tr>\n",
              "    <tr>\n",
              "      <th>1</th>\n",
              "      <td>c0lcsl7</td>\n",
              "      <td>t5_2qhk3</td>\n",
              "      <td>1267403877</td>\n",
              "      <td>False</td>\n",
              "      <td>t3_b7k39</td>\n",
              "      <td>False</td>\n",
              "      <td>t1_c0lcnel</td>\n",
              "      <td>4</td>\n",
              "      <td>4</td>\n",
              "      <td>0</td>\n",
              "      <td>None</td>\n",
              "      <td>1426228099</td>\n",
              "      <td>0</td>\n",
              "      <td>0</td>\n",
              "      <td>hopeless_case</td>\n",
              "      <td>None</td>\n",
              "      <td>None</td>\n",
              "      <td>I haven't run across Saydrah's posts much in t...</td>\n",
              "      <td>t1_c0lcsl7</td>\n",
              "      <td>MensRights</td>\n",
              "      <td>True</td>\n",
              "    </tr>\n",
              "    <tr>\n",
              "      <th>2</th>\n",
              "      <td>c0lcsl8</td>\n",
              "      <td>t5_2qh1u</td>\n",
              "      <td>1267403902</td>\n",
              "      <td>False</td>\n",
              "      <td>t3_b7j64</td>\n",
              "      <td>False</td>\n",
              "      <td>t3_b7j64</td>\n",
              "      <td>4</td>\n",
              "      <td>4</td>\n",
              "      <td>0</td>\n",
              "      <td>None</td>\n",
              "      <td>1426228099</td>\n",
              "      <td>0</td>\n",
              "      <td>0</td>\n",
              "      <td>PSteak</td>\n",
              "      <td>None</td>\n",
              "      <td>None</td>\n",
              "      <td>Neil Young - Prairie Wind. \\n\\nNeil Young alwa...</td>\n",
              "      <td>t1_c0lcsl8</td>\n",
              "      <td>Music</td>\n",
              "      <td>True</td>\n",
              "    </tr>\n",
              "    <tr>\n",
              "      <th>3</th>\n",
              "      <td>c0lcsl9</td>\n",
              "      <td>t5_mouw</td>\n",
              "      <td>1267403929</td>\n",
              "      <td>False</td>\n",
              "      <td>t3_b7ijk</td>\n",
              "      <td>False</td>\n",
              "      <td>t1_c0lcqj5</td>\n",
              "      <td>1</td>\n",
              "      <td>1</td>\n",
              "      <td>0</td>\n",
              "      <td>None</td>\n",
              "      <td>1426228099</td>\n",
              "      <td>0</td>\n",
              "      <td>0</td>\n",
              "      <td>cartopheln</td>\n",
              "      <td>None</td>\n",
              "      <td>None</td>\n",
              "      <td>Yeah, I was talking long run.</td>\n",
              "      <td>t1_c0lcsl9</td>\n",
              "      <td>science</td>\n",
              "      <td>True</td>\n",
              "    </tr>\n",
              "    <tr>\n",
              "      <th>4</th>\n",
              "      <td>c0lcsla</td>\n",
              "      <td>t5_2qh61</td>\n",
              "      <td>1267403936</td>\n",
              "      <td>False</td>\n",
              "      <td>t3_b7jch</td>\n",
              "      <td>False</td>\n",
              "      <td>t1_c0lcpuh</td>\n",
              "      <td>3</td>\n",
              "      <td>3</td>\n",
              "      <td>0</td>\n",
              "      <td>None</td>\n",
              "      <td>1426228099</td>\n",
              "      <td>0</td>\n",
              "      <td>0</td>\n",
              "      <td>imacpu</td>\n",
              "      <td>None</td>\n",
              "      <td>None</td>\n",
              "      <td>Wow, how many situations could that work for.</td>\n",
              "      <td>t1_c0lcsla</td>\n",
              "      <td>WTF</td>\n",
              "      <td>True</td>\n",
              "    </tr>\n",
              "    <tr>\n",
              "      <th>...</th>\n",
              "      <td>...</td>\n",
              "      <td>...</td>\n",
              "      <td>...</td>\n",
              "      <td>...</td>\n",
              "      <td>...</td>\n",
              "      <td>...</td>\n",
              "      <td>...</td>\n",
              "      <td>...</td>\n",
              "      <td>...</td>\n",
              "      <td>...</td>\n",
              "      <td>...</td>\n",
              "      <td>...</td>\n",
              "      <td>...</td>\n",
              "      <td>...</td>\n",
              "      <td>...</td>\n",
              "      <td>...</td>\n",
              "      <td>...</td>\n",
              "      <td>...</td>\n",
              "      <td>...</td>\n",
              "      <td>...</td>\n",
              "      <td>...</td>\n",
              "    </tr>\n",
              "    <tr>\n",
              "      <th>199995</th>\n",
              "      <td>c0lh3fk</td>\n",
              "      <td>t5_2cneq</td>\n",
              "      <td>1267568602</td>\n",
              "      <td>False</td>\n",
              "      <td>t3_b8adn</td>\n",
              "      <td>False</td>\n",
              "      <td>t3_b8adn</td>\n",
              "      <td>1</td>\n",
              "      <td>1</td>\n",
              "      <td>0</td>\n",
              "      <td>None</td>\n",
              "      <td>1426230121</td>\n",
              "      <td>0</td>\n",
              "      <td>0</td>\n",
              "      <td>MrFactualReality</td>\n",
              "      <td>None</td>\n",
              "      <td>None</td>\n",
              "      <td>ask your teacher if she believes we need to sp...</td>\n",
              "      <td>t1_c0lh3fk</td>\n",
              "      <td>politics</td>\n",
              "      <td>True</td>\n",
              "    </tr>\n",
              "    <tr>\n",
              "      <th>199996</th>\n",
              "      <td>c0lh3fl</td>\n",
              "      <td>t5_2qh87</td>\n",
              "      <td>1267568602</td>\n",
              "      <td>False</td>\n",
              "      <td>t3_b805q</td>\n",
              "      <td>False</td>\n",
              "      <td>t1_c0lfv9u</td>\n",
              "      <td>1</td>\n",
              "      <td>1</td>\n",
              "      <td>0</td>\n",
              "      <td>None</td>\n",
              "      <td>1426230121</td>\n",
              "      <td>0</td>\n",
              "      <td>0</td>\n",
              "      <td>Deusdies</td>\n",
              "      <td>None</td>\n",
              "      <td>None</td>\n",
              "      <td>So 2 days then.</td>\n",
              "      <td>t1_c0lh3fl</td>\n",
              "      <td>space</td>\n",
              "      <td>True</td>\n",
              "    </tr>\n",
              "    <tr>\n",
              "      <th>199997</th>\n",
              "      <td>c0lh3fm</td>\n",
              "      <td>t5_2fwo</td>\n",
              "      <td>1267568603</td>\n",
              "      <td>False</td>\n",
              "      <td>t3_b8f0y</td>\n",
              "      <td>False</td>\n",
              "      <td>t3_b8f0y</td>\n",
              "      <td>1</td>\n",
              "      <td>1</td>\n",
              "      <td>0</td>\n",
              "      <td>None</td>\n",
              "      <td>1426230121</td>\n",
              "      <td>0</td>\n",
              "      <td>0</td>\n",
              "      <td>jigglebilly</td>\n",
              "      <td>None</td>\n",
              "      <td>None</td>\n",
              "      <td>You can do that with asterisk.\\n\\nId be willin...</td>\n",
              "      <td>t1_c0lh3fm</td>\n",
              "      <td>programming</td>\n",
              "      <td>True</td>\n",
              "    </tr>\n",
              "    <tr>\n",
              "      <th>199998</th>\n",
              "      <td>c0lh3fn</td>\n",
              "      <td>t5_2qh0u</td>\n",
              "      <td>1267568604</td>\n",
              "      <td>False</td>\n",
              "      <td>t3_b7x0y</td>\n",
              "      <td>False</td>\n",
              "      <td>t1_c0lh37i</td>\n",
              "      <td>-2</td>\n",
              "      <td>-2</td>\n",
              "      <td>0</td>\n",
              "      <td>None</td>\n",
              "      <td>1426230121</td>\n",
              "      <td>0</td>\n",
              "      <td>0</td>\n",
              "      <td>Qjet</td>\n",
              "      <td>None</td>\n",
              "      <td>None</td>\n",
              "      <td>Mayple syrup is fucking DELICIOUS.\\n\\nGG.</td>\n",
              "      <td>t1_c0lh3fn</td>\n",
              "      <td>pics</td>\n",
              "      <td>True</td>\n",
              "    </tr>\n",
              "    <tr>\n",
              "      <th>199999</th>\n",
              "      <td>c0lh3fo</td>\n",
              "      <td>t5_2qh61</td>\n",
              "      <td>1267568605</td>\n",
              "      <td>False</td>\n",
              "      <td>t3_b8ct6</td>\n",
              "      <td>False</td>\n",
              "      <td>t1_c0lh2mf</td>\n",
              "      <td>5</td>\n",
              "      <td>5</td>\n",
              "      <td>0</td>\n",
              "      <td>None</td>\n",
              "      <td>1426230121</td>\n",
              "      <td>0</td>\n",
              "      <td>0</td>\n",
              "      <td>TheWholeThing</td>\n",
              "      <td>None</td>\n",
              "      <td>None</td>\n",
              "      <td>I used to live within walking distance of two ...</td>\n",
              "      <td>t1_c0lh3fo</td>\n",
              "      <td>WTF</td>\n",
              "      <td>True</td>\n",
              "    </tr>\n",
              "  </tbody>\n",
              "</table>\n",
              "<p>200000 rows × 21 columns</p>\n",
              "</div>"
            ]
          },
          "metadata": {
            "tags": []
          },
          "execution_count": 5
        }
      ],
      "metadata": {
        "colab": {
          "base_uri": "https://localhost:8080/",
          "height": 689
        },
        "id": "PInnK9rM2qYX",
        "outputId": "e37d1c28-c20b-4576-e452-abc40bee6e56"
      }
    },
    {
      "cell_type": "code",
      "execution_count": 6,
      "source": [
        "df['subreddit'].value_counts()"
      ],
      "outputs": [
        {
          "output_type": "execute_result",
          "data": {
            "text/plain": [
              "AskReddit       37911\n",
              "reddit.com      20063\n",
              "pics            13599\n",
              "gaming          10259\n",
              "politics         9963\n",
              "                ...  \n",
              "garithostest        1\n",
              "malkovich           1\n",
              "AnxietyPanic        1\n",
              "Scam                1\n",
              "idm                 1\n",
              "Name: subreddit, Length: 904, dtype: int64"
            ]
          },
          "metadata": {
            "tags": []
          },
          "execution_count": 6
        }
      ],
      "metadata": {
        "colab": {
          "base_uri": "https://localhost:8080/"
        },
        "id": "rHHM7yZd3NXA",
        "outputId": "3c57a2b5-f1ec-4f2c-f614-2977aa5c71bf"
      }
    },
    {
      "cell_type": "code",
      "execution_count": 7,
      "source": [
        "df.apply(lambda x:x.nunique())"
      ],
      "outputs": [
        {
          "output_type": "execute_result",
          "data": {
            "text/plain": [
              "id                        200000\n",
              "subreddit_id                 904\n",
              "created_utc               109477\n",
              "score_hidden                   1\n",
              "link_id                    18781\n",
              "edited                       129\n",
              "parent_id                 101700\n",
              "score                        402\n",
              "ups                          402\n",
              "downs                          1\n",
              "author_flair_css_class       554\n",
              "retrieved_on                1873\n",
              "gilded                         1\n",
              "controversiality               1\n",
              "author                     34617\n",
              "author_flair_text            916\n",
              "distinguished                  2\n",
              "body                      181519\n",
              "name                      200000\n",
              "subreddit                    904\n",
              "archived                       2\n",
              "dtype: int64"
            ]
          },
          "metadata": {
            "tags": []
          },
          "execution_count": 7
        }
      ],
      "metadata": {
        "colab": {
          "base_uri": "https://localhost:8080/"
        },
        "id": "bk7_Dq9V5ZMz",
        "outputId": "9328e3ef-f992-48ba-9078-3eba61f0ea02"
      }
    },
    {
      "cell_type": "code",
      "execution_count": 8,
      "source": [
        "df.isnull()"
      ],
      "outputs": [
        {
          "output_type": "execute_result",
          "data": {
            "text/plain": [
              "           id  subreddit_id  created_utc  ...   name  subreddit  archived\n",
              "0       False         False        False  ...  False      False     False\n",
              "1       False         False        False  ...  False      False     False\n",
              "2       False         False        False  ...  False      False     False\n",
              "3       False         False        False  ...  False      False     False\n",
              "4       False         False        False  ...  False      False     False\n",
              "...       ...           ...          ...  ...    ...        ...       ...\n",
              "199995  False         False        False  ...  False      False     False\n",
              "199996  False         False        False  ...  False      False     False\n",
              "199997  False         False        False  ...  False      False     False\n",
              "199998  False         False        False  ...  False      False     False\n",
              "199999  False         False        False  ...  False      False     False\n",
              "\n",
              "[200000 rows x 21 columns]"
            ],
            "text/html": [
              "<div>\n",
              "<style scoped>\n",
              "    .dataframe tbody tr th:only-of-type {\n",
              "        vertical-align: middle;\n",
              "    }\n",
              "\n",
              "    .dataframe tbody tr th {\n",
              "        vertical-align: top;\n",
              "    }\n",
              "\n",
              "    .dataframe thead th {\n",
              "        text-align: right;\n",
              "    }\n",
              "</style>\n",
              "<table border=\"1\" class=\"dataframe\">\n",
              "  <thead>\n",
              "    <tr style=\"text-align: right;\">\n",
              "      <th></th>\n",
              "      <th>id</th>\n",
              "      <th>subreddit_id</th>\n",
              "      <th>created_utc</th>\n",
              "      <th>score_hidden</th>\n",
              "      <th>link_id</th>\n",
              "      <th>edited</th>\n",
              "      <th>parent_id</th>\n",
              "      <th>score</th>\n",
              "      <th>ups</th>\n",
              "      <th>downs</th>\n",
              "      <th>author_flair_css_class</th>\n",
              "      <th>retrieved_on</th>\n",
              "      <th>gilded</th>\n",
              "      <th>controversiality</th>\n",
              "      <th>author</th>\n",
              "      <th>author_flair_text</th>\n",
              "      <th>distinguished</th>\n",
              "      <th>body</th>\n",
              "      <th>name</th>\n",
              "      <th>subreddit</th>\n",
              "      <th>archived</th>\n",
              "    </tr>\n",
              "  </thead>\n",
              "  <tbody>\n",
              "    <tr>\n",
              "      <th>0</th>\n",
              "      <td>False</td>\n",
              "      <td>False</td>\n",
              "      <td>False</td>\n",
              "      <td>False</td>\n",
              "      <td>False</td>\n",
              "      <td>False</td>\n",
              "      <td>False</td>\n",
              "      <td>False</td>\n",
              "      <td>False</td>\n",
              "      <td>False</td>\n",
              "      <td>True</td>\n",
              "      <td>False</td>\n",
              "      <td>False</td>\n",
              "      <td>False</td>\n",
              "      <td>False</td>\n",
              "      <td>True</td>\n",
              "      <td>True</td>\n",
              "      <td>False</td>\n",
              "      <td>False</td>\n",
              "      <td>False</td>\n",
              "      <td>False</td>\n",
              "    </tr>\n",
              "    <tr>\n",
              "      <th>1</th>\n",
              "      <td>False</td>\n",
              "      <td>False</td>\n",
              "      <td>False</td>\n",
              "      <td>False</td>\n",
              "      <td>False</td>\n",
              "      <td>False</td>\n",
              "      <td>False</td>\n",
              "      <td>False</td>\n",
              "      <td>False</td>\n",
              "      <td>False</td>\n",
              "      <td>True</td>\n",
              "      <td>False</td>\n",
              "      <td>False</td>\n",
              "      <td>False</td>\n",
              "      <td>False</td>\n",
              "      <td>True</td>\n",
              "      <td>True</td>\n",
              "      <td>False</td>\n",
              "      <td>False</td>\n",
              "      <td>False</td>\n",
              "      <td>False</td>\n",
              "    </tr>\n",
              "    <tr>\n",
              "      <th>2</th>\n",
              "      <td>False</td>\n",
              "      <td>False</td>\n",
              "      <td>False</td>\n",
              "      <td>False</td>\n",
              "      <td>False</td>\n",
              "      <td>False</td>\n",
              "      <td>False</td>\n",
              "      <td>False</td>\n",
              "      <td>False</td>\n",
              "      <td>False</td>\n",
              "      <td>True</td>\n",
              "      <td>False</td>\n",
              "      <td>False</td>\n",
              "      <td>False</td>\n",
              "      <td>False</td>\n",
              "      <td>True</td>\n",
              "      <td>True</td>\n",
              "      <td>False</td>\n",
              "      <td>False</td>\n",
              "      <td>False</td>\n",
              "      <td>False</td>\n",
              "    </tr>\n",
              "    <tr>\n",
              "      <th>3</th>\n",
              "      <td>False</td>\n",
              "      <td>False</td>\n",
              "      <td>False</td>\n",
              "      <td>False</td>\n",
              "      <td>False</td>\n",
              "      <td>False</td>\n",
              "      <td>False</td>\n",
              "      <td>False</td>\n",
              "      <td>False</td>\n",
              "      <td>False</td>\n",
              "      <td>True</td>\n",
              "      <td>False</td>\n",
              "      <td>False</td>\n",
              "      <td>False</td>\n",
              "      <td>False</td>\n",
              "      <td>True</td>\n",
              "      <td>True</td>\n",
              "      <td>False</td>\n",
              "      <td>False</td>\n",
              "      <td>False</td>\n",
              "      <td>False</td>\n",
              "    </tr>\n",
              "    <tr>\n",
              "      <th>4</th>\n",
              "      <td>False</td>\n",
              "      <td>False</td>\n",
              "      <td>False</td>\n",
              "      <td>False</td>\n",
              "      <td>False</td>\n",
              "      <td>False</td>\n",
              "      <td>False</td>\n",
              "      <td>False</td>\n",
              "      <td>False</td>\n",
              "      <td>False</td>\n",
              "      <td>True</td>\n",
              "      <td>False</td>\n",
              "      <td>False</td>\n",
              "      <td>False</td>\n",
              "      <td>False</td>\n",
              "      <td>True</td>\n",
              "      <td>True</td>\n",
              "      <td>False</td>\n",
              "      <td>False</td>\n",
              "      <td>False</td>\n",
              "      <td>False</td>\n",
              "    </tr>\n",
              "    <tr>\n",
              "      <th>...</th>\n",
              "      <td>...</td>\n",
              "      <td>...</td>\n",
              "      <td>...</td>\n",
              "      <td>...</td>\n",
              "      <td>...</td>\n",
              "      <td>...</td>\n",
              "      <td>...</td>\n",
              "      <td>...</td>\n",
              "      <td>...</td>\n",
              "      <td>...</td>\n",
              "      <td>...</td>\n",
              "      <td>...</td>\n",
              "      <td>...</td>\n",
              "      <td>...</td>\n",
              "      <td>...</td>\n",
              "      <td>...</td>\n",
              "      <td>...</td>\n",
              "      <td>...</td>\n",
              "      <td>...</td>\n",
              "      <td>...</td>\n",
              "      <td>...</td>\n",
              "    </tr>\n",
              "    <tr>\n",
              "      <th>199995</th>\n",
              "      <td>False</td>\n",
              "      <td>False</td>\n",
              "      <td>False</td>\n",
              "      <td>False</td>\n",
              "      <td>False</td>\n",
              "      <td>False</td>\n",
              "      <td>False</td>\n",
              "      <td>False</td>\n",
              "      <td>False</td>\n",
              "      <td>False</td>\n",
              "      <td>True</td>\n",
              "      <td>False</td>\n",
              "      <td>False</td>\n",
              "      <td>False</td>\n",
              "      <td>False</td>\n",
              "      <td>True</td>\n",
              "      <td>True</td>\n",
              "      <td>False</td>\n",
              "      <td>False</td>\n",
              "      <td>False</td>\n",
              "      <td>False</td>\n",
              "    </tr>\n",
              "    <tr>\n",
              "      <th>199996</th>\n",
              "      <td>False</td>\n",
              "      <td>False</td>\n",
              "      <td>False</td>\n",
              "      <td>False</td>\n",
              "      <td>False</td>\n",
              "      <td>False</td>\n",
              "      <td>False</td>\n",
              "      <td>False</td>\n",
              "      <td>False</td>\n",
              "      <td>False</td>\n",
              "      <td>True</td>\n",
              "      <td>False</td>\n",
              "      <td>False</td>\n",
              "      <td>False</td>\n",
              "      <td>False</td>\n",
              "      <td>True</td>\n",
              "      <td>True</td>\n",
              "      <td>False</td>\n",
              "      <td>False</td>\n",
              "      <td>False</td>\n",
              "      <td>False</td>\n",
              "    </tr>\n",
              "    <tr>\n",
              "      <th>199997</th>\n",
              "      <td>False</td>\n",
              "      <td>False</td>\n",
              "      <td>False</td>\n",
              "      <td>False</td>\n",
              "      <td>False</td>\n",
              "      <td>False</td>\n",
              "      <td>False</td>\n",
              "      <td>False</td>\n",
              "      <td>False</td>\n",
              "      <td>False</td>\n",
              "      <td>True</td>\n",
              "      <td>False</td>\n",
              "      <td>False</td>\n",
              "      <td>False</td>\n",
              "      <td>False</td>\n",
              "      <td>True</td>\n",
              "      <td>True</td>\n",
              "      <td>False</td>\n",
              "      <td>False</td>\n",
              "      <td>False</td>\n",
              "      <td>False</td>\n",
              "    </tr>\n",
              "    <tr>\n",
              "      <th>199998</th>\n",
              "      <td>False</td>\n",
              "      <td>False</td>\n",
              "      <td>False</td>\n",
              "      <td>False</td>\n",
              "      <td>False</td>\n",
              "      <td>False</td>\n",
              "      <td>False</td>\n",
              "      <td>False</td>\n",
              "      <td>False</td>\n",
              "      <td>False</td>\n",
              "      <td>True</td>\n",
              "      <td>False</td>\n",
              "      <td>False</td>\n",
              "      <td>False</td>\n",
              "      <td>False</td>\n",
              "      <td>True</td>\n",
              "      <td>True</td>\n",
              "      <td>False</td>\n",
              "      <td>False</td>\n",
              "      <td>False</td>\n",
              "      <td>False</td>\n",
              "    </tr>\n",
              "    <tr>\n",
              "      <th>199999</th>\n",
              "      <td>False</td>\n",
              "      <td>False</td>\n",
              "      <td>False</td>\n",
              "      <td>False</td>\n",
              "      <td>False</td>\n",
              "      <td>False</td>\n",
              "      <td>False</td>\n",
              "      <td>False</td>\n",
              "      <td>False</td>\n",
              "      <td>False</td>\n",
              "      <td>True</td>\n",
              "      <td>False</td>\n",
              "      <td>False</td>\n",
              "      <td>False</td>\n",
              "      <td>False</td>\n",
              "      <td>True</td>\n",
              "      <td>True</td>\n",
              "      <td>False</td>\n",
              "      <td>False</td>\n",
              "      <td>False</td>\n",
              "      <td>False</td>\n",
              "    </tr>\n",
              "  </tbody>\n",
              "</table>\n",
              "<p>200000 rows × 21 columns</p>\n",
              "</div>"
            ]
          },
          "metadata": {
            "tags": []
          },
          "execution_count": 8
        }
      ],
      "metadata": {
        "colab": {
          "base_uri": "https://localhost:8080/",
          "height": 437
        },
        "id": "cQd0VaqrMVIc",
        "outputId": "f5d931fd-9715-43b2-cb9e-861d169f51ee"
      }
    },
    {
      "cell_type": "code",
      "execution_count": 9,
      "source": [
        "df.isnull().sum()"
      ],
      "outputs": [
        {
          "output_type": "execute_result",
          "data": {
            "text/plain": [
              "id                             0\n",
              "subreddit_id                   0\n",
              "created_utc                    0\n",
              "score_hidden                   0\n",
              "link_id                        0\n",
              "edited                         0\n",
              "parent_id                      0\n",
              "score                          0\n",
              "ups                            0\n",
              "downs                          0\n",
              "author_flair_css_class    196019\n",
              "retrieved_on                   0\n",
              "gilded                         0\n",
              "controversiality               0\n",
              "author                         0\n",
              "author_flair_text         196349\n",
              "distinguished             199928\n",
              "body                           0\n",
              "name                           0\n",
              "subreddit                      0\n",
              "archived                       0\n",
              "dtype: int64"
            ]
          },
          "metadata": {
            "tags": []
          },
          "execution_count": 9
        }
      ],
      "metadata": {
        "colab": {
          "base_uri": "https://localhost:8080/"
        },
        "id": "Cjz0qN3LMY1z",
        "outputId": "909bd3d2-9825-409e-ed50-31d638b59b80"
      }
    },
    {
      "cell_type": "code",
      "execution_count": 10,
      "source": [
        "df.info()"
      ],
      "outputs": [
        {
          "output_type": "stream",
          "name": "stdout",
          "text": [
            "<class 'pandas.core.frame.DataFrame'>\n",
            "RangeIndex: 200000 entries, 0 to 199999\n",
            "Data columns (total 21 columns):\n",
            " #   Column                  Non-Null Count   Dtype \n",
            "---  ------                  --------------   ----- \n",
            " 0   id                      200000 non-null  object\n",
            " 1   subreddit_id            200000 non-null  object\n",
            " 2   created_utc             200000 non-null  object\n",
            " 3   score_hidden            200000 non-null  bool  \n",
            " 4   link_id                 200000 non-null  object\n",
            " 5   edited                  200000 non-null  object\n",
            " 6   parent_id               200000 non-null  object\n",
            " 7   score                   200000 non-null  int64 \n",
            " 8   ups                     200000 non-null  int64 \n",
            " 9   downs                   200000 non-null  int64 \n",
            " 10  author_flair_css_class  3981 non-null    object\n",
            " 11  retrieved_on            200000 non-null  int64 \n",
            " 12  gilded                  200000 non-null  int64 \n",
            " 13  controversiality        200000 non-null  int64 \n",
            " 14  author                  200000 non-null  object\n",
            " 15  author_flair_text       3651 non-null    object\n",
            " 16  distinguished           72 non-null      object\n",
            " 17  body                    200000 non-null  object\n",
            " 18  name                    200000 non-null  object\n",
            " 19  subreddit               200000 non-null  object\n",
            " 20  archived                200000 non-null  bool  \n",
            "dtypes: bool(2), int64(6), object(13)\n",
            "memory usage: 29.4+ MB\n"
          ]
        }
      ],
      "metadata": {
        "colab": {
          "base_uri": "https://localhost:8080/"
        },
        "id": "xer04Mk7MaMP",
        "outputId": "881a0c47-5c16-440f-f06d-485174ef05fc"
      }
    },
    {
      "cell_type": "code",
      "execution_count": 11,
      "source": [
        "import matplotlib.pyplot as plt\r\n",
        "import seaborn as sns\r\n",
        "%matplotlib inline\r\n",
        "\r\n",
        "import pandas_profiling\r\n",
        "import missingno as msno"
      ],
      "outputs": [],
      "metadata": {
        "id": "T-8bNQpLNFpn"
      }
    },
    {
      "cell_type": "code",
      "execution_count": 12,
      "source": [
        "msno.matrix(df)"
      ],
      "outputs": [
        {
          "output_type": "execute_result",
          "data": {
            "text/plain": [
              "<matplotlib.axes._subplots.AxesSubplot at 0x7fc7b7c6af10>"
            ]
          },
          "metadata": {
            "tags": []
          },
          "execution_count": 12
        }
      ],
      "metadata": {
        "colab": {
          "base_uri": "https://localhost:8080/"
        },
        "id": "oQfbw-h8Nay9",
        "outputId": "6690da5e-8f5d-4238-8fd1-cf06ef80cc14"
      }
    },
    {
      "cell_type": "code",
      "execution_count": 13,
      "source": [
        "df.describe().style.background_gradient(cmap = 'inferno')"
      ],
      "outputs": [
        {
          "output_type": "execute_result",
          "data": {
            "text/plain": [
              "<pandas.io.formats.style.Styler at 0x7fc7b8799c50>"
            ],
            "text/html": [
              "<style  type=\"text/css\" >\n",
              "#T_03e57bcc_f366_11eb_b02a_0242ac1c0002row0_col0,#T_03e57bcc_f366_11eb_b02a_0242ac1c0002row0_col1,#T_03e57bcc_f366_11eb_b02a_0242ac1c0002row0_col2,#T_03e57bcc_f366_11eb_b02a_0242ac1c0002row0_col4,#T_03e57bcc_f366_11eb_b02a_0242ac1c0002row0_col5,#T_03e57bcc_f366_11eb_b02a_0242ac1c0002row1_col3,#T_03e57bcc_f366_11eb_b02a_0242ac1c0002row3_col3,#T_03e57bcc_f366_11eb_b02a_0242ac1c0002row4_col3,#T_03e57bcc_f366_11eb_b02a_0242ac1c0002row5_col3,#T_03e57bcc_f366_11eb_b02a_0242ac1c0002row6_col3,#T_03e57bcc_f366_11eb_b02a_0242ac1c0002row7_col3{\n",
              "            background-color:  #fcffa4;\n",
              "            color:  #000000;\n",
              "        }#T_03e57bcc_f366_11eb_b02a_0242ac1c0002row0_col3,#T_03e57bcc_f366_11eb_b02a_0242ac1c0002row1_col0,#T_03e57bcc_f366_11eb_b02a_0242ac1c0002row1_col1,#T_03e57bcc_f366_11eb_b02a_0242ac1c0002row1_col2,#T_03e57bcc_f366_11eb_b02a_0242ac1c0002row1_col4,#T_03e57bcc_f366_11eb_b02a_0242ac1c0002row1_col5,#T_03e57bcc_f366_11eb_b02a_0242ac1c0002row2_col0,#T_03e57bcc_f366_11eb_b02a_0242ac1c0002row2_col1,#T_03e57bcc_f366_11eb_b02a_0242ac1c0002row2_col2,#T_03e57bcc_f366_11eb_b02a_0242ac1c0002row2_col3,#T_03e57bcc_f366_11eb_b02a_0242ac1c0002row2_col4,#T_03e57bcc_f366_11eb_b02a_0242ac1c0002row2_col5,#T_03e57bcc_f366_11eb_b02a_0242ac1c0002row3_col0,#T_03e57bcc_f366_11eb_b02a_0242ac1c0002row3_col1,#T_03e57bcc_f366_11eb_b02a_0242ac1c0002row3_col2,#T_03e57bcc_f366_11eb_b02a_0242ac1c0002row3_col4,#T_03e57bcc_f366_11eb_b02a_0242ac1c0002row3_col5,#T_03e57bcc_f366_11eb_b02a_0242ac1c0002row4_col0,#T_03e57bcc_f366_11eb_b02a_0242ac1c0002row4_col1,#T_03e57bcc_f366_11eb_b02a_0242ac1c0002row4_col2,#T_03e57bcc_f366_11eb_b02a_0242ac1c0002row4_col4,#T_03e57bcc_f366_11eb_b02a_0242ac1c0002row4_col5,#T_03e57bcc_f366_11eb_b02a_0242ac1c0002row5_col0,#T_03e57bcc_f366_11eb_b02a_0242ac1c0002row5_col1,#T_03e57bcc_f366_11eb_b02a_0242ac1c0002row5_col2,#T_03e57bcc_f366_11eb_b02a_0242ac1c0002row5_col4,#T_03e57bcc_f366_11eb_b02a_0242ac1c0002row5_col5,#T_03e57bcc_f366_11eb_b02a_0242ac1c0002row6_col0,#T_03e57bcc_f366_11eb_b02a_0242ac1c0002row6_col1,#T_03e57bcc_f366_11eb_b02a_0242ac1c0002row6_col2,#T_03e57bcc_f366_11eb_b02a_0242ac1c0002row6_col4,#T_03e57bcc_f366_11eb_b02a_0242ac1c0002row6_col5,#T_03e57bcc_f366_11eb_b02a_0242ac1c0002row7_col2,#T_03e57bcc_f366_11eb_b02a_0242ac1c0002row7_col4,#T_03e57bcc_f366_11eb_b02a_0242ac1c0002row7_col5{\n",
              "            background-color:  #000004;\n",
              "            color:  #f1f1f1;\n",
              "        }#T_03e57bcc_f366_11eb_b02a_0242ac1c0002row7_col0,#T_03e57bcc_f366_11eb_b02a_0242ac1c0002row7_col1{\n",
              "            background-color:  #010108;\n",
              "            color:  #f1f1f1;\n",
              "        }</style><table id=\"T_03e57bcc_f366_11eb_b02a_0242ac1c0002\" ><thead>    <tr>        <th class=\"blank level0\" ></th>        <th class=\"col_heading level0 col0\" >score</th>        <th class=\"col_heading level0 col1\" >ups</th>        <th class=\"col_heading level0 col2\" >downs</th>        <th class=\"col_heading level0 col3\" >retrieved_on</th>        <th class=\"col_heading level0 col4\" >gilded</th>        <th class=\"col_heading level0 col5\" >controversiality</th>    </tr></thead><tbody>\n",
              "                <tr>\n",
              "                        <th id=\"T_03e57bcc_f366_11eb_b02a_0242ac1c0002level0_row0\" class=\"row_heading level0 row0\" >count</th>\n",
              "                        <td id=\"T_03e57bcc_f366_11eb_b02a_0242ac1c0002row0_col0\" class=\"data row0 col0\" >200000.000000</td>\n",
              "                        <td id=\"T_03e57bcc_f366_11eb_b02a_0242ac1c0002row0_col1\" class=\"data row0 col1\" >200000.000000</td>\n",
              "                        <td id=\"T_03e57bcc_f366_11eb_b02a_0242ac1c0002row0_col2\" class=\"data row0 col2\" >200000.000000</td>\n",
              "                        <td id=\"T_03e57bcc_f366_11eb_b02a_0242ac1c0002row0_col3\" class=\"data row0 col3\" >200000.000000</td>\n",
              "                        <td id=\"T_03e57bcc_f366_11eb_b02a_0242ac1c0002row0_col4\" class=\"data row0 col4\" >200000.000000</td>\n",
              "                        <td id=\"T_03e57bcc_f366_11eb_b02a_0242ac1c0002row0_col5\" class=\"data row0 col5\" >200000.000000</td>\n",
              "            </tr>\n",
              "            <tr>\n",
              "                        <th id=\"T_03e57bcc_f366_11eb_b02a_0242ac1c0002level0_row1\" class=\"row_heading level0 row1\" >mean</th>\n",
              "                        <td id=\"T_03e57bcc_f366_11eb_b02a_0242ac1c0002row1_col0\" class=\"data row1 col0\" >4.060015</td>\n",
              "                        <td id=\"T_03e57bcc_f366_11eb_b02a_0242ac1c0002row1_col1\" class=\"data row1 col1\" >4.060015</td>\n",
              "                        <td id=\"T_03e57bcc_f366_11eb_b02a_0242ac1c0002row1_col2\" class=\"data row1 col2\" >0.000000</td>\n",
              "                        <td id=\"T_03e57bcc_f366_11eb_b02a_0242ac1c0002row1_col3\" class=\"data row1 col3\" >1426229108.575860</td>\n",
              "                        <td id=\"T_03e57bcc_f366_11eb_b02a_0242ac1c0002row1_col4\" class=\"data row1 col4\" >0.000000</td>\n",
              "                        <td id=\"T_03e57bcc_f366_11eb_b02a_0242ac1c0002row1_col5\" class=\"data row1 col5\" >0.000000</td>\n",
              "            </tr>\n",
              "            <tr>\n",
              "                        <th id=\"T_03e57bcc_f366_11eb_b02a_0242ac1c0002level0_row2\" class=\"row_heading level0 row2\" >std</th>\n",
              "                        <td id=\"T_03e57bcc_f366_11eb_b02a_0242ac1c0002row2_col0\" class=\"data row2 col0\" >16.746395</td>\n",
              "                        <td id=\"T_03e57bcc_f366_11eb_b02a_0242ac1c0002row2_col1\" class=\"data row2 col1\" >16.746395</td>\n",
              "                        <td id=\"T_03e57bcc_f366_11eb_b02a_0242ac1c0002row2_col2\" class=\"data row2 col2\" >0.000000</td>\n",
              "                        <td id=\"T_03e57bcc_f366_11eb_b02a_0242ac1c0002row2_col3\" class=\"data row2 col3\" >585.269223</td>\n",
              "                        <td id=\"T_03e57bcc_f366_11eb_b02a_0242ac1c0002row2_col4\" class=\"data row2 col4\" >0.000000</td>\n",
              "                        <td id=\"T_03e57bcc_f366_11eb_b02a_0242ac1c0002row2_col5\" class=\"data row2 col5\" >0.000000</td>\n",
              "            </tr>\n",
              "            <tr>\n",
              "                        <th id=\"T_03e57bcc_f366_11eb_b02a_0242ac1c0002level0_row3\" class=\"row_heading level0 row3\" >min</th>\n",
              "                        <td id=\"T_03e57bcc_f366_11eb_b02a_0242ac1c0002row3_col0\" class=\"data row3 col0\" >-131.000000</td>\n",
              "                        <td id=\"T_03e57bcc_f366_11eb_b02a_0242ac1c0002row3_col1\" class=\"data row3 col1\" >-131.000000</td>\n",
              "                        <td id=\"T_03e57bcc_f366_11eb_b02a_0242ac1c0002row3_col2\" class=\"data row3 col2\" >0.000000</td>\n",
              "                        <td id=\"T_03e57bcc_f366_11eb_b02a_0242ac1c0002row3_col3\" class=\"data row3 col3\" >1426228099.000000</td>\n",
              "                        <td id=\"T_03e57bcc_f366_11eb_b02a_0242ac1c0002row3_col4\" class=\"data row3 col4\" >0.000000</td>\n",
              "                        <td id=\"T_03e57bcc_f366_11eb_b02a_0242ac1c0002row3_col5\" class=\"data row3 col5\" >0.000000</td>\n",
              "            </tr>\n",
              "            <tr>\n",
              "                        <th id=\"T_03e57bcc_f366_11eb_b02a_0242ac1c0002level0_row4\" class=\"row_heading level0 row4\" >25%</th>\n",
              "                        <td id=\"T_03e57bcc_f366_11eb_b02a_0242ac1c0002row4_col0\" class=\"data row4 col0\" >1.000000</td>\n",
              "                        <td id=\"T_03e57bcc_f366_11eb_b02a_0242ac1c0002row4_col1\" class=\"data row4 col1\" >1.000000</td>\n",
              "                        <td id=\"T_03e57bcc_f366_11eb_b02a_0242ac1c0002row4_col2\" class=\"data row4 col2\" >0.000000</td>\n",
              "                        <td id=\"T_03e57bcc_f366_11eb_b02a_0242ac1c0002row4_col3\" class=\"data row4 col3\" >1426228601.000000</td>\n",
              "                        <td id=\"T_03e57bcc_f366_11eb_b02a_0242ac1c0002row4_col4\" class=\"data row4 col4\" >0.000000</td>\n",
              "                        <td id=\"T_03e57bcc_f366_11eb_b02a_0242ac1c0002row4_col5\" class=\"data row4 col5\" >0.000000</td>\n",
              "            </tr>\n",
              "            <tr>\n",
              "                        <th id=\"T_03e57bcc_f366_11eb_b02a_0242ac1c0002level0_row5\" class=\"row_heading level0 row5\" >50%</th>\n",
              "                        <td id=\"T_03e57bcc_f366_11eb_b02a_0242ac1c0002row5_col0\" class=\"data row5 col0\" >1.000000</td>\n",
              "                        <td id=\"T_03e57bcc_f366_11eb_b02a_0242ac1c0002row5_col1\" class=\"data row5 col1\" >1.000000</td>\n",
              "                        <td id=\"T_03e57bcc_f366_11eb_b02a_0242ac1c0002row5_col2\" class=\"data row5 col2\" >0.000000</td>\n",
              "                        <td id=\"T_03e57bcc_f366_11eb_b02a_0242ac1c0002row5_col3\" class=\"data row5 col3\" >1426229102.000000</td>\n",
              "                        <td id=\"T_03e57bcc_f366_11eb_b02a_0242ac1c0002row5_col4\" class=\"data row5 col4\" >0.000000</td>\n",
              "                        <td id=\"T_03e57bcc_f366_11eb_b02a_0242ac1c0002row5_col5\" class=\"data row5 col5\" >0.000000</td>\n",
              "            </tr>\n",
              "            <tr>\n",
              "                        <th id=\"T_03e57bcc_f366_11eb_b02a_0242ac1c0002level0_row6\" class=\"row_heading level0 row6\" >75%</th>\n",
              "                        <td id=\"T_03e57bcc_f366_11eb_b02a_0242ac1c0002row6_col0\" class=\"data row6 col0\" >3.000000</td>\n",
              "                        <td id=\"T_03e57bcc_f366_11eb_b02a_0242ac1c0002row6_col1\" class=\"data row6 col1\" >3.000000</td>\n",
              "                        <td id=\"T_03e57bcc_f366_11eb_b02a_0242ac1c0002row6_col2\" class=\"data row6 col2\" >0.000000</td>\n",
              "                        <td id=\"T_03e57bcc_f366_11eb_b02a_0242ac1c0002row6_col3\" class=\"data row6 col3\" >1426229618.000000</td>\n",
              "                        <td id=\"T_03e57bcc_f366_11eb_b02a_0242ac1c0002row6_col4\" class=\"data row6 col4\" >0.000000</td>\n",
              "                        <td id=\"T_03e57bcc_f366_11eb_b02a_0242ac1c0002row6_col5\" class=\"data row6 col5\" >0.000000</td>\n",
              "            </tr>\n",
              "            <tr>\n",
              "                        <th id=\"T_03e57bcc_f366_11eb_b02a_0242ac1c0002level0_row7\" class=\"row_heading level0 row7\" >max</th>\n",
              "                        <td id=\"T_03e57bcc_f366_11eb_b02a_0242ac1c0002row7_col0\" class=\"data row7 col0\" >2268.000000</td>\n",
              "                        <td id=\"T_03e57bcc_f366_11eb_b02a_0242ac1c0002row7_col1\" class=\"data row7 col1\" >2268.000000</td>\n",
              "                        <td id=\"T_03e57bcc_f366_11eb_b02a_0242ac1c0002row7_col2\" class=\"data row7 col2\" >0.000000</td>\n",
              "                        <td id=\"T_03e57bcc_f366_11eb_b02a_0242ac1c0002row7_col3\" class=\"data row7 col3\" >1426230121.000000</td>\n",
              "                        <td id=\"T_03e57bcc_f366_11eb_b02a_0242ac1c0002row7_col4\" class=\"data row7 col4\" >0.000000</td>\n",
              "                        <td id=\"T_03e57bcc_f366_11eb_b02a_0242ac1c0002row7_col5\" class=\"data row7 col5\" >0.000000</td>\n",
              "            </tr>\n",
              "    </tbody></table>"
            ]
          },
          "metadata": {
            "tags": []
          },
          "execution_count": 13
        }
      ],
      "metadata": {
        "colab": {
          "base_uri": "https://localhost:8080/",
          "height": 202
        },
        "id": "VDOxkDQTNxeL",
        "outputId": "187add71-b09b-4bd1-cdf1-c40dd6ef8d63"
      }
    },
    {
      "cell_type": "code",
      "execution_count": 14,
      "source": [
        "df.columns"
      ],
      "outputs": [
        {
          "output_type": "execute_result",
          "data": {
            "text/plain": [
              "Index(['id', 'subreddit_id', 'created_utc', 'score_hidden', 'link_id',\n",
              "       'edited', 'parent_id', 'score', 'ups', 'downs',\n",
              "       'author_flair_css_class', 'retrieved_on', 'gilded', 'controversiality',\n",
              "       'author', 'author_flair_text', 'distinguished', 'body', 'name',\n",
              "       'subreddit', 'archived'],\n",
              "      dtype='object')"
            ]
          },
          "metadata": {
            "tags": []
          },
          "execution_count": 14
        }
      ],
      "metadata": {
        "colab": {
          "base_uri": "https://localhost:8080/"
        },
        "id": "jasREQVbOt-U",
        "outputId": "75cc5a80-d297-4d91-d480-c18b9c2e11b3"
      }
    },
    {
      "cell_type": "code",
      "execution_count": 15,
      "source": [
        "df['archived'].nunique()"
      ],
      "outputs": [
        {
          "output_type": "execute_result",
          "data": {
            "text/plain": [
              "2"
            ]
          },
          "metadata": {
            "tags": []
          },
          "execution_count": 15
        }
      ],
      "metadata": {
        "colab": {
          "base_uri": "https://localhost:8080/"
        },
        "id": "NARqv9DvPnoi",
        "outputId": "da50a38b-d1bf-46b1-d55f-13b8a4ccfb48"
      }
    },
    {
      "cell_type": "code",
      "execution_count": 16,
      "source": [
        "df['archived'].nunique"
      ],
      "outputs": [
        {
          "output_type": "execute_result",
          "data": {
            "text/plain": [
              "<bound method IndexOpsMixin.nunique of 0         True\n",
              "1         True\n",
              "2         True\n",
              "3         True\n",
              "4         True\n",
              "          ... \n",
              "199995    True\n",
              "199996    True\n",
              "199997    True\n",
              "199998    True\n",
              "199999    True\n",
              "Name: archived, Length: 200000, dtype: bool>"
            ]
          },
          "metadata": {
            "tags": []
          },
          "execution_count": 16
        }
      ],
      "metadata": {
        "colab": {
          "base_uri": "https://localhost:8080/"
        },
        "id": "dYyZ3yydPxZq",
        "outputId": "42ac5111-1b54-43dd-b0a3-6810c64f4ab6"
      }
    },
    {
      "cell_type": "code",
      "execution_count": 17,
      "source": [
        "df['author_flair_css_class'].unique()"
      ],
      "outputs": [
        {
          "output_type": "execute_result",
          "data": {
            "text/plain": [
              "array([None, 'SOChouston-dynamo', 'NHLSenators', 'blue-belt', 'mflb',\n",
              "       'generalbiology', '', 'CHINHL', 'um', 'vintage', 'psn', 'purple',\n",
              "       'HartfordWhalersSilverOLDNHL', 'us', 'MikaHakkinen', 'BC',\n",
              "       'flickr', 'NFLRedskins', 'knight', '39', 'flair', 'NBACeltics',\n",
              "       '1', 'soldierred', 'ver', 'fantasy', 'no-knight', 'ca',\n",
              "       'KansasCityScoutsOLDNHL', 'trusted', '051', 'AP', 'CAN', '14',\n",
              "       'KTRolster', 'redblack', 'smoknglassbong', 'smoknjoint', 'down',\n",
              "       'treesblunt', 'NHLLeafs', 'MB', 'TEST', 'pc', 'medicblu', 'lfm',\n",
              "       'bioengineering', 'default', 'smokndabber', 'bio', 'elfhat', 'up',\n",
              "       'ON', 'izzet', 'spyblu', 'userTeal', 'lastfm', 'FLANHL',\n",
              "       'Southside-Flats', 'au', 'mclaren', 'NBATrailBlazers', 'scoutred',\n",
              "       'roca', 'user-ranger', 'growler', 'CHIAlt1NHL', 'weizen',\n",
              "       'CHIOldNHL', 'NT', 'lfg', 'heavyred', 'orthodox', 'advanced',\n",
              "       'green', 'NS', 'pyrored', 'SJSOldNHL', '55', 'alliance-druid',\n",
              "       'blue', 'sjsdefault', '27', 'OTTOldNHL', 'blfm', 'redblack2', '38',\n",
              "       'doctordeath', 'moderator', 'QC', 'us-il', 'alliance-warrior',\n",
              "       'smoknblunt', '30', 'engyred', 'artist', 'IIHFCanada', 'tulip2',\n",
              "       'jerktalk', 'cody', 'pint3', 'ivoted', 'jerktalkplat', 'reformed',\n",
              "       '11', 'NYRNHL', 'sandvichred', 'bulb2', 'poppy', 'userBrown',\n",
              "       'boros', 'demored', '118 s2', '29', 'medicred', 'fashion-district',\n",
              "       'smoknrbubbler', 'smoknDaBuddha', 'pyroblu', 'SOCtoronto-fc',\n",
              "       'website', 'red', 'sp', 'YU', 'mixcloud', 'SK', '2',\n",
              "       'liberty-village', 'bulb', 'COLAltNHL', 'postmodern', 'PHINHL',\n",
              "       'purple-belt', 'EDMNHL', 'GeneralFiction', 'new-toronto',\n",
              "       'classics', 'TORNHL', 'intermediate', 'shaman', 'bottle4',\n",
              "       'SlayerS', 'sfo', 'userGray', 'userBlack', 'Z', 'Red', 'us-ga',\n",
              "       'AB', 'NFLCowboys', 'T', 'redtext', 'NHLCanadiens', 'us-ca', 'R',\n",
              "       'alliance-monk', 'us-co', 'SJSNHL', '5', 'MLBBlueJays',\n",
              "       'MLBCardinals', 'abr', 'SOCbarcelona', 'smoknchillum',\n",
              "       'NFLPatriots', 'fa', 'MLBCubs', 'oca', 'Author', 'chirho',\n",
              "       'CALDARI', 'golgari', 'smoknvolcano',\n",
              "       'NCAAMinnesotaStateMavericks', 'gb', 'reaper', 'biography-memoirs',\n",
              "       'pd', 'NBAMavericks', 'pertwee', '53', 'uq', 'corktown', 'current',\n",
              "       'wardr', 'MINMATAR', 'sa', 'sniperred', 'demored-forcenormal',\n",
              "       'EDMOrangeNHL', 'year1', 'other', 'qld', 'NFLBears', 'smoknapple',\n",
              "       '158', 'engyblu', 'reading', 'userBlue', 'jansmall', 'warrior',\n",
              "       'ferrari', 'AMARR', 'text kanto', '3', 'deathknight',\n",
              "       'VANStickInRinkNHL', 'MAL', 'scarlet', 'priest',\n",
              "       'literary-fiction', 'fsm', 'alliance-paladin', 'horde-druid',\n",
              "       'horde-hunter', 'physics', 'whiteblack', 'canarc', '81', '126',\n",
              "       'soldierblu', 'azorius', 'cubase', 'black', 'angel', 'ps3',\n",
              "       'director', 'PITNHL', 'compsci', 'guristas', 'welsh', 'bellof',\n",
              "       'druid', 'upper-beaches', 'meth', 'NHLRedWings', 'bloodwing',\n",
              "       'clark', '24', 'flair-default', 'PITOld1NHL', 'TOROld2NHL', 'uk',\n",
              "       'curator', 'uqhn', 'med', 'sc', 'snifter', 'BOSOld2NHL', '003',\n",
              "       'garden-district', 'trinitybellwoods', 'us-mn', 'orzhov', '41',\n",
              "       'winneradvanced', 'text', 'dtardif', 'us-wa', 'cock', '129 s2',\n",
              "       'demoblu', 'sct', 'NHLFlyers', 'science-fiction', 'userPink',\n",
              "       'points ', 'usa', '10', 'tulip3', 'antrim', 'Entrepreneur',\n",
              "       'BUFNHL', 'jp', 'scottish', 'gamecube', 'scoutblu', 'eng', 'simic',\n",
              "       'limerick', 'button', 'purg', 'crescent', 'bioinformatics',\n",
              "       'VANSkateNHL', 'NFLGiants', 'english', 'pickering',\n",
              "       'flair-gamertag', 'mozilla', 'standardflair', 'rogue',\n",
              "       'NFLSeahawks', 'NFLBrowns', 'NFLEagles', '34', 'NYRLadyNHL',\n",
              "       'pink', 'mcgann', 'kriek', 'east-danforth', 'userLime', 'DNS',\n",
              "       'horror', 'warlock', 'Suburbs', 'soundcloud', 'game-dev', '360',\n",
              "       'NFLRaiders', 'sniperblu', '13', 'SOCla-galaxy', 'MLBYankees',\n",
              "       'NHLRangers', 'PITOld2NHL', 'the-junction', 'CGYNHL', 'OTTNHL',\n",
              "       'NFLPackers', 'live', 'FlairTigerhead', 'CBJAlt2NHL', 'mod',\n",
              "       'greenblack', 'rr', 'mg', 'NHLWild', 'MinnesotaNorthStarsOLDNHL',\n",
              "       'DavidCoulthard', 'horde-monk', '019', 'chandra', 'christ',\n",
              "       'goldblack', 'horde-warrior', 'monk', 'snowflake', 'pint2',\n",
              "       'cnty-england', 'MLBBraves', 'smoknbowl', 'NHLCoyotes', 'P',\n",
              "       'hunter', 'cs', 'cheney', 'queen-street-west', 'protools', 'City',\n",
              "       'athe', 'horde', 'user-engineer', 'usopp', 'bra', 'arthur',\n",
              "       'Camera', 'goat', 'pres', 'alonso', 'userRed', 'user-miner',\n",
              "       'spyred', 'zig', '500px', 'horde-paladin', 'cs-physics', 'moist',\n",
              "       'canada', '4', 'soldierred-forcenormal', 'icc', 'horde-rogue',\n",
              "       'eng-kernow', 'Utah', 'text chugoku', 'MEN', 'freebsd', 'voted',\n",
              "       'smoknbong', 'us-mi', 'cnty-scotland', 'userGreen', 'norfolk',\n",
              "       'ime', 'TeamLiquid', 'ao', 'eng-yorkshire', 'MLBGiants', 'mecl',\n",
              "       'jeskai', 'papple21', 'user-jeweler', 'text kaigai', 'TOROld1NHL',\n",
              "       'MLBNationals', 'RVBr', 'headphones', 'tom-baker', '4S', 'north',\n",
              "       'papple11', 'yonge-and-eglinton', 'tulip1',\n",
              "       'eng-northhamptonshire', 'NHLJets', 'jace', 'engyred-forcenormal',\n",
              "       'kobayashi', 'GALLENTE', 'nottinghamshire', 'nzl', 'us-az',\n",
              "       'kaigai', 'ainbow', 'genetics', 'UIUC', '152', 'prot', 'vinyl',\n",
              "       'alliance-priest', 'logic', 'NFLChargers', 'MLBTigers', '430',\n",
              "       'uu', 'regular', 'AHLTorontoMarlies', '7', 'STLAltNHL', 'appdev',\n",
              "       'userWhite', 'tvsmall', 'ricciardo', 'hamilton', 'text kinki',\n",
              "       'MLBOrioles', 'ayrton', 'blueblack', 'xnatheist', 'vic', 'brown',\n",
              "       'raiders', 'ad', 'villeneuve', 'DETOld1NHL', 'general-fiction',\n",
              "       'tennant', 'NJDNHL', 'bzx', 'US', 'NHLPenguins', 'NBALakers',\n",
              "       'horde-shaman', '28', 'australia', 'NFL49ers', 'wagner', 'james',\n",
              "       'rachmaninov', 'west', 'lds', 'paladin', 'atheismftw', 'rakdos',\n",
              "       'irish', 'uqsl', 'young-adult', 'india', 'alliance-hunter',\n",
              "       'record', '243', 'NU', 'chief', 'cnty-uk', 'BOSNHL', 'FRNK',\n",
              "       'WSHNHL', 'EIK', 'lp', 'wa', 'mage', 'Normandie', 'ter-manx',\n",
              "       'lancashire', 'ceoColor', 'cnty-wales', 'bluei', 'nzc', 'mika',\n",
              "       'dimir', 'Central-Lawrenceville', 'tardis', 'nw-usopp', '48',\n",
              "       'cnty-expat', 'sonar', '355', 'emergent', 'handheart', 'italy',\n",
              "       'peterson', 'chem', 'EURO', 'btn', 'handel', 'alliance-mage',\n",
              "       'drizzy3', 'hampshire', 'comic', 'maldonado', 'NFLSaints',\n",
              "       'premium-flair', 'WSHAltNHL', 'Kentucky', 'gamertag', 'EDMGearNHL',\n",
              "       'EDMOldNHL', 'bc', 'wales', 'alex', 'NL', 'FP and A',\n",
              "       'AHLBridgeportSoundTigers', 'gruul', 'vettel', 'lions', 'openbsd',\n",
              "       'ar', 'flair-GL', 'NBATrailblazers', 'ISyE',\n",
              "       'alliance-deathknight', 'glass', 'NFLColts', 'trap2', 'texas',\n",
              "       'userYellow', 'debian', 'flair-pohjois-pohjanmaa', 'NicoRosberg',\n",
              "       'MTLNHL', 'IIHFUSA', 'smoknbrownie', 'arch', 'es',\n",
              "       'scarborough-city-centre', 'yorkshire', 'offbeat-or-quirky',\n",
              "       'MLBRays', 'gueuze', 'garruk', 'drink1', '410', 'demon'],\n",
              "      dtype=object)"
            ]
          },
          "metadata": {
            "tags": []
          },
          "execution_count": 17
        }
      ],
      "metadata": {
        "colab": {
          "base_uri": "https://localhost:8080/"
        },
        "id": "pWKPt9g8P073",
        "outputId": "99954054-f36e-4aa7-aff9-3c0ed67f015f"
      }
    },
    {
      "cell_type": "code",
      "execution_count": 18,
      "source": [
        "df['author_flair_text'].unique()"
      ],
      "outputs": [
        {
          "output_type": "execute_result",
          "data": {
            "text/plain": [
              "array([None, '', 'general biology', 'chardonnay schmardonnay', 'Mammoth',\n",
              "       'CHINHL', 'Rivendell A Homer Hilsen + 4 other bikes', 'Dom',\n",
              "       'Sir Rambunctious of Applecross, by way of Nedlands.',\n",
              "       'dan_blanchard', 'Literally a teddy bear',\n",
              "       'HartfordWhalersSilverOLDNHL', 'United States', 'Mika Häkkinen',\n",
              "       'British Columbia',\n",
              "       'https://www.flickr.com/photos/thedailynathan/', 'drpcken',\n",
              "       '★★★ No PMs.', 'Sunnyside', 'Swansea City', 'Brougham Faithful',\n",
              "       'Computer Science', 'KellyTheET', '\"Don\\'t be a dick\"', 'Arsenal',\n",
              "       'verified', 'I collect hardcovers', 'iPhone6', 'Secular Humanist',\n",
              "       'Rafamalak, Coindrop, etc', 'KansasCityScoutsOLDNHL', 'trusted',\n",
              "       '5a/4b division literally in middle of 1.4acre property.',\n",
              "       'moneyshotsuhhh',\n",
              "       'http://www.anime-planet.com/users/captaincrunch', 'Canada',\n",
              "       'Seattle Sounders', 'KT Rolster', 'gunks', '-1', 'Manitoba',\n",
              "       'Test Alliance Please Ignore', 'Rivensteel', 'LoudestMouse',\n",
              "       'bioengineering', 'Gibson/Fender/Matchless',\n",
              "       'PhD|Plant Pathology|Plant Breeding|Mycology|Epidemiology',\n",
              "       '1 | None', 'Ontario', 'Agnostic Atheist', 'Overhed',\n",
              "       'Samsung Galaxy S III, USCC, CM10 Nightlies + Nexus 7 2013 stock',\n",
              "       'parmetheus', 'FLANHL', 'South Side Flats',\n",
              "       'myTouch 3G, Ginger Yoshi 1.5', 'Australia', 'All of the Above',\n",
              "       'McLaren', 'M-4', 'LOL SHADOWBANT', 'Redmond', 'Roman Catholic',\n",
              "       'CHIAlt1NHL', 'CHIOldNHL', 'Northwest Territories',\n",
              "       'Priest Magnifique ', 'nWoD/Indie fanboi', 'Enter location here.',\n",
              "       'Eastern Orthodox', 'minarchist', 'Conservative', 'Nature',\n",
              "       'Irreligious', 'Nova Scotia', 'Jafit McJafitson', 'SJSOldNHL',\n",
              "       \"'98 Jeep Grand Cherokee ZJ Laredo\", 'Harmony',\n",
              "       'Dynamical Systems', 'Couture 39',\n",
              "       \"'08 Street Bob / '70 Triumph T-100\", 'Ariashaye', 'OTTOldNHL',\n",
              "       'Parmetheus', 'thoroughly submissive', 'Upvote for free tacos',\n",
              "       'Southampton', '(PhD... of DEATH!)', 'Strongman (Retired)',\n",
              "       'Guardian of the lost 116 pages', 'Québec', 'Scofflaw',\n",
              "       '1985 Trek 310 / Purple Mixte / Dropbar Hardrock / Italian Folder',\n",
              "       'Ignostic', 'Farmstink', 'Esteemed Rage Historian', 'Astoria',\n",
              "       'frikker', 'DrHappycat', 'Satertek', 'Extra Ordinary',\n",
              "       'You Get What You Put In', 'IIHFCanada', 'Inactive',\n",
              "       '[USA Est] GFWL: BlitzBlitzerson / PSN: qial', 'Ithaca, NY',\n",
              "       'Senor Libertad', 'big80smullet', 'Seattle Expatriate',\n",
              "       'moderator', 'naughty', 'Reformed', 'NYRNHL',\n",
              "       '\"... he just has the magic Tinkerbell wand.\" (Alex Jones)',\n",
              "       'Py3k!', 'Such Alumni', 'Lest We Forget', 'PhD|Genetics',\n",
              "       'Nexus One, CyanogenMod', 'Hopsickle',\n",
              "       'pretends to play the guitar', 'Knight of /new', 'Blyth Spartans',\n",
              "       'Fashion District', 'handstandflip', 'Lovebane', 'aperson',\n",
              "       'www.williambrand.photography', 'MD (Founder)', 'Martinvburen',\n",
              "       'Spotify', 'Yukon', 'mixcloud.com/sassanix', 'Saskatchewan',\n",
              "       'Manchester United', 'mokshaguy390', 'Liberty Village',\n",
              "       'Rutherford the Brave', 'Helpful redditor.', 'COLAltNHL',\n",
              "       'Infinite Jest (currently reading)', 'parp', 'PHINHL',\n",
              "       'Brazilian Top Team', 'imkoreansowhat', 'EDMNHL', 'Para',\n",
              "       '05 wrx wagon', 'General Fiction', 'New Toronto', 'East of Eden',\n",
              "       'TORNHL', 'partscaster/5150i/randall412xl', 'Applied Math',\n",
              "       'SlayerS', 'San Francisco, CA (Soma Juice; Gary Fisher Marlin)',\n",
              "       'Nexus 4', '____Faust | Whatabeard', 'Nexus S 4G', 'Green Lake',\n",
              "       'Loveland', 'Zerg', 'Upwardly Mobile', 'Tez Saurus', 'EmptySolid',\n",
              "       'Soma Smoothie', 'Alberta', 'Nexus S 4G 4.0.4', 'floatnsink',\n",
              "       'Atheist', 'Shoreline', 'Terran', 'michael boltonIII',\n",
              "       'emeritus founder', 'Cannondale 1989', 'Wallingford',\n",
              "       'Anti-Theist', 'California, USA (Replace with bike &amp; year)',\n",
              "       'Random', 'De-Facto Atheist', 'Yeti ASR Carbon (Pro XTR Kit)',\n",
              "       'SJSNHL', 'Garulf Hirgon', 'Organic', 'Raleigh Hills', 'Humanist',\n",
              "       'New York | Burton Fish, Jones Flagship', 'Hunterdon, NJ',\n",
              "       '1980 Specialized Allez, red, full Superbe build',\n",
              "       'this country has the prettiest flag', 'Siebellius',\n",
              "       'Orthodox Church in America', 'OfTheOutback', 'Novice Writer',\n",
              "       'Flaherty 31', 'Christian (Chi Rho)', 'Caldari State',\n",
              "       'Surly Crosscheck', 'London, UK', 'Queen Anne',\n",
              "       'NCAAMinnesotaStateMavericks', 'Three and a half bicycles.',\n",
              "       'rAdelaide', 'Music Maker', 'All Creatures Great and Small',\n",
              "       'Pandora', 'Vittorios', 'Pertwee', 'Ryunaga', 'Toronto FC',\n",
              "       'anti-flair',\n",
              "       'Prof. Parnell observes his experiments from the afterlife.',\n",
              "       'Corktown', 'Sigelei 100w+ | Hobo v2.1', 'Fantasy', 'Hurt',\n",
              "       'Minmatar Republic', 'sigloiv', '-235 points',\n",
              "       'LLB/BA (Grand Fubar &amp; Dropout King)', 'Django guy', 'SAM',\n",
              "       'EDMOrangeNHL', '1865 days', 'Chemistry', 'עם ישראל חי',\n",
              "       'Richmond', 'Surrounded by trees.', 'Bristol City', 'Powerlifting',\n",
              "       '0 points', 'The Night Circus', '1893 days',\n",
              "       'Masi Speciale CX 2008', 'Foil', 'Galaxy Note 3', 'The Janitor',\n",
              "       'in vivo', 'Ferrari', 'Jinli mei', 'awesome creator',\n",
              "       'Amarr Empire', 'US→PA→FJ→SG→NZ', '[東京都]', 'Liverpool',\n",
              "       'easily distracted', 'panem et circenses', 'Kirkland',\n",
              "       'VANStickInRinkNHL', 'http://myanimelist.net/profile/alfador',\n",
              "       'BMC SLR01', 'potatolicious42', '.__iter__', 'uno', 'Abandoner',\n",
              "       'The Lazarus Project', 'Life', 'Epee',\n",
              "       'Sydneysider, then Novacastrian, now Launcestonian', 'Brassface',\n",
              "       'Oregon', 'MSc|Quantum Optics', 'Club MFLB', 'Christian Anarchist',\n",
              "       'Stoke City', 'Gerard Gendri', 'Leeds United', 'Japan',\n",
              "       'Bob Athey is best snowboard skier', 'GT', 'Dodgy DNA',\n",
              "       'django ate my baby',\n",
              "       \"Don't get upset, I stopped giving a fuck years ago\",\n",
              "       'Grad Student|Biophysics', 'Angel Cartel', 'Darkos Nightmare',\n",
              "       'Brentwood-Darlington', 'PITNHL', 'maximin',\n",
              "       'Grad Student|Security|Programming Languages',\n",
              "       'US 5b, semi-arid high plains', 'Guristas', 'Wales',\n",
              "       'Stefan Bellof', '（╯°□°）╯︵ ┻━┻', 'twaddle', 'Upper Beaches',\n",
              "       'United Methodist', 'Galaxy Nexus, JB Stock',\n",
              "       \"I'M COMING FOR YOU HANDSOME JACK.\", 'חיפה', 'Richmond, Va',\n",
              "       'Jim Clark', 'Bronze (Internet Freelancer)', '260z', 'PITOld1NHL',\n",
              "       'CFBbEbGC', '@garythellama', 'Georgist Monarchist', 'TOROld2NHL',\n",
              "       'Darkest Surrey', 'Yorkville', 'Dru Prime', 'Doctoring.', 'Nexus4',\n",
              "       'MD|Neurology', 'attrition0', 'Samsung Galaxy S 4 [VZW]',\n",
              "       'Galaxy S4 | Nexus 7', 'mefx1', 'styroteqe', 'BOSOld2NHL',\n",
              "       'Print Designer', '2011 135i', 'Melbourne', 'faulky', '988 days',\n",
              "       'Ambiguously Grey', 'hobby farmer',\n",
              "       'CCNP R&amp;S/CCNA R&amp;S/CCNA Voice/CCNA Security/CCNA Wireless',\n",
              "       'Garden District', 'The Night Land', 'speckledlemon',\n",
              "       'Trinity-Bellwoods', 'CoffeeScript is better',\n",
              "       'A cooler bike than yours',\n",
              "       'Good men must not obey laws too well.', 'Simon touched me',\n",
              "       'New York Yankees', 'Kadhi Chawal Bhakt', 'KeX0rz', 'HardwareLust',\n",
              "       '2011 Rodriguez Rohloff', 'COCK a doodle doo.', 'Bologna',\n",
              "       'Scotland', 'The Years of Rice and Salt',\n",
              "       'VzW Galaxy Nexus, Flytouch 6', \"'\", '11', 'Skeptic', 'The Best',\n",
              "       'PPL SEL (KOAK)', 'Architect', 'Pandemic Legion', 'Etab Odor',\n",
              "       'Entrepreneur', 'Hypnotoad07', 'BUFNHL', 'Squinty Liu', 'Ex-Exile',\n",
              "       'Iceland', '2010 Cervelo R3', 'NE',\n",
              "       'Droid expat, in iOS land now (iPhone 4S)', 'Charles Village',\n",
              "       'BS | Mechanical Engineering', 'Nexus 5', 'PDW - Gear Diva',\n",
              "       'AttackingHobo', 'Jenson Button', 'VaHi',\n",
              "       'Purgatorial Universalist', 'Islam', 'Slatekka', 'bioinformatics',\n",
              "       'VANSkateNHL', 'England', 'RX-8', 'Rowing (Competitive) ',\n",
              "       'Beavis56', 'Not on fire (probably)', 'Pickering', 'Moderator',\n",
              "       '964 days', 'Programmer', 'PyPy/Cryptography/Computers',\n",
              "       'Galaxy Nexus, ICS', 'NYRLadyNHL', 'oh SNAP', 'McGann', 'gooner',\n",
              "       'Retired Packaging Dude', 'stop Ⓥoting, stⒶrt building',\n",
              "       'Denny Triangle', 'XNA/C#/MonoGame', 'East Danforth', 'zen',\n",
              "       'LG OG', 'Dirt Nap Squad.', 'E4GT, Goodness 1.3', 'Necronomicon',\n",
              "       'Des Plaines', 'Equestrian Sports', 'Lynnwood',\n",
              "       'http://www.soundcloud.com/versechorusjvh', 'Liquid1dr',\n",
              "       \"Hi, i'm Brad!\", 'http://www.last.fm/user/killhunter',\n",
              "       'MSc|Biology| Wildlife Ecology', '1382 days', '@DeadlyBrad42',\n",
              "       'PITOld2NHL', 'Pikosaurus', 'Adviceatologist', 'The Junction',\n",
              "       'CGYNHL', 'United Kingdom', '@alexschearer', '@s73v3r', 'OTTNHL',\n",
              "       'BS|Physics', \"MET '13\", 'CBJAlt2NHL', 'mod', 'octatone', 'R',\n",
              "       'ps3ud0nym', 'Our Lady of Internet', 'MinnesotaNorthStarsOLDNHL',\n",
              "       'David Coulthard', 'bazqux', 'Nexus One, CM7',\n",
              "       'Slingshot 2013 Whip', 'https://www.flickr.com/photos/uberkid71/',\n",
              "       'Cylinsier', 'Dice_for_Death_', '*\\\\(-_-) Hail Hydra ', 'xfoxbatx',\n",
              "       'ScannerBrightly', 'Protoss', 'Magnolia', 'haiku fan',\n",
              "       'SAGE OF ALL FIELDS', '2012',\n",
              "       'Filthy race mixer, Zionist, model redditor, and Neocon shill',\n",
              "       'Munkii', 'Fairview Park',\n",
              "       'Digital Painter, Helikon Gallery Director', 'Queen Street West',\n",
              "       'Disciple of Glycon', 'Avondale', 'Sosondowah', '(╯°□°）╯︵ ┻━┻',\n",
              "       'ancap', 'stands in fire', 'reddit General Manager',\n",
              "       'Presbyterian', 'Alonso', 'Nexus 5, Stock, Sprint',\n",
              "       'MARTOK MARTOK MARTOK', 'http://www.last.fm/user/LCDsoundscape',\n",
              "       'foxhh', 'nicolauz', 'Greenwich Village', '500px',\n",
              "       'Calfee Tetra Pro', 'Uptown', '2010', 'Misaki Tanaka',\n",
              "       'S Waterfront', 'Python implementer', 'quasse', 'helpful redditor',\n",
              "       'Norn Irn-&gt;Yorkshire-&gt;Essex-&gt;Alberta', 'Aeropress',\n",
              "       'myanimelist.net/animelist/lochange', 'Architectural Designer',\n",
              "       'Almost Toowoomba', 'London', 'wojciechgabrys', 'pixel monkey',\n",
              "       'Introspection, Contemplation, Curiosity, Spirituality', '[広島県]',\n",
              "       'SV1000S (fastest color)', 'Black Legion.', 'Capitalist', 'Struth',\n",
              "       '[埼玉県]', 'Makes the tubes go fast', \"Callie L'Aliel\", '1856 days',\n",
              "       'Edgewater', 'the One True Mod', 'RDS.86', 'FrndlyMisanthrpe',\n",
              "       'BdaMann', 'sandboxmagician', 'HTC One 4.3', 'Dai_Shan',\n",
              "       '❇ Special Snowflake ❇',\n",
              "       '2000 Klein Quantum Road &amp; 1999 Gary Fisher Hoo Koo e Koo MTB',\n",
              "       'US (Formerly Edinburgh, London)', 'The Emerald City',\n",
              "       'Capitol Hill', 'epithet-', 'Nexus 4 | Paranoid 3.6',\n",
              "       'Te Tumatauenga',\n",
              "       'Nexus S, Vanilla Jelly Bean | Asus Transformer 101, ICS',\n",
              "       'Weegie', 'Upper West Side', 'shane_solo', 'Team Liquid',\n",
              "       'Mt Tabor', 'ex-parrot', 'Linux Systems Engineer',\n",
              "       'Christian (Alpha &amp; Omega)', 'Yorkshire', '2015',\n",
              "       'G2, Cyanogenmod 7.1', 'ex-Cisco Geek',\n",
              "       'Theatrical Print Designer | Space Pirate', 'Hagstrom',\n",
              "       'Computer Science ', 'razorbeamz', 'TeamAustralia Vice Captain',\n",
              "       'lanformatique', 'Who put this blood here?', 'Φ',\n",
              "       'The Right Honourable', '[スウェーデン]', 'Samsung Galaxy SIII',\n",
              "       'Synius', 'Perth,WA', 'pinch of this, pinch of that', 'JK',\n",
              "       'TOROld1NHL', 'Luna*', 'Pale Fire', 'MechE Class of 2014',\n",
              "       'Columbia City', '2014 Look 566 road, 1988 Marinoni road',\n",
              "       'poco153', 'Wordcounter', 'RvB - RED Federation', 'SoundCloud',\n",
              "       'Dat Purple Stuff', 'Tom Baker', 'mastabling', 'brummie',\n",
              "       'Since 1983.', 'hazilla', 'conservationist', 'onemyke',\n",
              "       'Ed. Dir. (Physics/Math)', 'NavanJohnson', 'Yonge and Eglinton',\n",
              "       'Liberal', '37 pieces is the bare minimum', 'Northamptonshire',\n",
              "       'Weight Lifting, General', 'brownstar',\n",
              "       '2009 Gary Fisher Mamba 29er', 'Kobayashi', 'Gallente Federation',\n",
              "       'Nottingham/Stafford', 'Hyde Park', 'New Zealand',\n",
              "       '2012 Specialized Allez Elite', 'redcrvtte05', 'radio reddit name',\n",
              "       'Xperia Z, stock', '[アメリカ]', 'Defies simple characterization',\n",
              "       'General Fitness', 'firewaterburns10',\n",
              "       'HTC Vision, CM7 Nightly, T-Mobile', '993 Cabrio, MB C300',\n",
              "       'Seattle', 'functional genomics', 'Leeds', 'alumni, CS',\n",
              "       'emilias107', 'Primordialking', 'Russia', 'swizzlenuts',\n",
              "       'based bass', 'Veteran', 'ⒶⒶrdvⒶrk',\n",
              "       'http://myanimelist.net/profile/Kuiper', 'the heretic',\n",
              "       'Nexus 4, Stock', 'soundcloud.com/dyzo-blue',\n",
              "       'Nexus 5, Android L, Note 10.1 2014, stock 4.3', 'Oblomov',\n",
              "       'SA Heaps Good!', 'Knows His Shit', '2', 'Parma',\n",
              "       'Christian Universalist', 'λ', 'Kamui Kobayashi',\n",
              "       'Washington Heights', 'proliferating .py since 2001',\n",
              "       'DurrHurrDurr', 'Art Director/Motion Graphics Monkey',\n",
              "       'Supreme Allied Commander', 'Schecter/ESP/Aria', 'Chem Eng',\n",
              "       'AHLTorontoMarlies', 'English | Español｜日本語 | 한국어 ', 'UziMonkey',\n",
              "       'MrBlueSky225', 'Speciation or Extinction', 'STLAltNHL',\n",
              "       'Brooklyn', 'MS IT 2010', 'Developer', '[W]', 'Beverly Grove',\n",
              "       'LTE Galaxy Nexus, LiquidSmooth', 'Ciudad de Buenos Aires',\n",
              "       'Economics, ACMS, Applied Math, Math', 'Linguistics, 2012',\n",
              "       'tankedup', 'Chicago!', 'doom what thou wilt',\n",
              "       ' &lt;3 ARLO: Mutt! &lt;3', \"Business - '07\",\n",
              "       'Show my flair on this reddit. It looks like:',\n",
              "       'Always in the last place you look.', 'Daniel Ricciardo',\n",
              "       'sambutt01', 'Hamilton', '[大阪府]', 'North Capitol Hill',\n",
              "       'Ayrton Senna', \"The Wise Man's Fear\", 'i live in the rainforest',\n",
              "       'Beaverton', 'ammonia and bleach make a great household cleaner',\n",
              "       '-postleft-antinihilist-market-grump', 'Ex-Theist', 'goonbaggins',\n",
              "       'yumz17', 'Christian Atheist', 'fast',\n",
              "       'balls deep in your grandma ', 'ndyjones',\n",
              "       'the artistic lady of the reddit', 'U District', '親日家',\n",
              "       \"Psychobiology '13\", 'Leader 725', 'President Emeritus', 'NUFC',\n",
              "       'http://myanimelist.net/animelist/thrgardinad', 'Note 4',\n",
              "       \"Dare me, I'll do it.\", 'Raiders', 'Power Chord Virtuoso',\n",
              "       'Crown Hill', '2010 Cannondale Tourer 1', 'Jacques Villeneuve',\n",
              "       'DETOld1NHL', 'Vermont - GNU RC C2BTX', 'Inherent Vice',\n",
              "       \"'Straya!\", 'Bass Performance', 'Tennant', 'N6', 'Williamsburg',\n",
              "       'Wauwatosa', 'ksumarine', 'NJDNHL', 'Byzantine Catholic',\n",
              "       \"GCCIS '10\", 'phwoar', \"Sullivan's Gulch\", 'Kidney',\n",
              "       'Practically Hitler.', 'Jet City', 'Army Veteran',\n",
              "       'Roswell that ends well', 'LG G2',\n",
              "       'BlkMrkt357TransitionCovertNorco4ByGiantFaith.nolycra.ever',\n",
              "       'Jesus Christ, Combinatorial Math!', 'LA Galaxy', 'St Johns',\n",
              "       'Mission', 'M4', 'Midtown/Gatech', 'mCb',\n",
              "       '2010 Civia Hyland Rohloff', \"Nexus 7'13 (stock-root)\", 'Inwood',\n",
              "       'kast', 'West Side', 'Jorn Lancaeron', '💩',\n",
              "       'United States Marine Corps',\n",
              "       'http://www.last.fm/user/theheavensbleed/', 'soundcloud.com/npc',\n",
              "       '[兵庫県]', 'Puyallup', 'The Phinest', 'Belltown', 'LDS (Mormon)',\n",
              "       'Wigan Pie eater', 'The Giraffe', 'A_Newborn_Theme', 'TehHat',\n",
              "       'Blue', 'Stuck on the 3.', 'Montavilla', 'Tax the Boats!',\n",
              "       'SoundCloud.com/npc', 'Culver City', 'Straight out of Surrey',\n",
              "       'HH Strat', 'Ireland', 'Civil Engineer', 'Turkeys are holy.',\n",
              "       'Hyperion', 'Brisbane, QLD', 'India', '1. ½-½', 'BastardNazarene',\n",
              "       'among others', 'BURD', 'Calisthenics, Weight Lifting',\n",
              "       'soundcloud.com/a-just-machine 14 yrs', 'Colo-Colo', 'Robotics',\n",
              "       'ljcl', 'Nunavut', 'Windfarmer', 'Amber series', 'Surrey',\n",
              "       '1956 days', 'BOSNHL', 'rookie', 'Franken', 'WSHNHL',\n",
              "       'Teisco Specturm 5 | Fender Silverfaces', 'Socialist',\n",
              "       'Army National Guard', 'Danish | English | Chinese', 'Normandie',\n",
              "       'Isle of Man', 'sikkunt', 'Thulsa790',\n",
              "       'guyupstairs [rangevsrange.com]', \"Adelaide Representin' Yo\",\n",
              "       'puppetless', 'Native: English | Learning: Arabic, Spanish',\n",
              "       'Manchester', 'Montolio', 'Brooklyn Heights', 'Elmhurst',\n",
              "       'Possibly Liberal', 'The Holy Numbers', 'of Portland',\n",
              "       'Congletonion', 'azzpsx', \"Alum '09 - Current Townie\",\n",
              "       'Certified butt doctor', 'Fort Greene', 'New Zealand Cricket',\n",
              "       'Monarchist Socialist', 'moonshine211',\n",
              "       'http://myanimelist.net/profile/michealcell', 'Viridian Socialist',\n",
              "       'soto', 'Equal Rites, 15%, reread', 'The QC', '1',\n",
              "       \"you couldn't pay me enough to attend a multi-stage music fest\",\n",
              "       'Central Lawrenceville', 'TARDIS', 'Liberal Monarchist',\n",
              "       'Contractor', 'Columbus Crew SC', 'Chile',\n",
              "       'Weightlifting, Lacrosse', 'Morecambe', 'Emergent',\n",
              "       'Alteil: Horizons - Developer', 'goldencako', 'Ronnie Peterson',\n",
              "       'PhD|Chemistry|RNA Biotech', \"Chemical Engineering '13\",\n",
              "       '64 Impala Conv / 4G63 Turbo Ram 50', 'European Union',\n",
              "       'Graduate Hospital', 'pfcballs (360)', 'Tyronnas Marrus',\n",
              "       'Droid Turbo', 'Strong Atheist', 'Tarrant-Cold',\n",
              "       'Lower Queen Anne', 'a most esteemed friend of Vlad', 'Green',\n",
              "       'Science Fiction / Dystopian', 'Bianchi Lupo',\n",
              "       'http://www.last.fm/user/mizake', 'Clinton Hill', 'tony_potenza',\n",
              "       'T-Mobile Galaxy S5, stock', 'AbhorrentFetus', 'Svennig',\n",
              "       'Bolton Hill', 'Soton', 'johnhawks', 'Galaxy Nexus, Jelly Bean',\n",
              "       'DUMBO', 'SMBC',\n",
              "       'PPPPPPPPPPPPPIIIIIIIIIIIIINNNNNNNNNNNNKKKKKKKKKKKKK',\n",
              "       'Vzw Galaxy Nexus, N7 -  CM10 Nightlies', 'Maldonado',\n",
              "       'Triathlon (Competitive)', 'Vancouver - Riders Choice',\n",
              "       '1990 Toyota Hilux', 'N4, Cyanogenmod', 'mew', 'Classic Rage King',\n",
              "       'Former Moderator', 'aaronisamazing', 'WSHAltNHL', 'Military Brat',\n",
              "       'Kentucky', 'GS4 | SG-T4', 'Wedgewood', 'Chris-Brokamp',\n",
              "       'Galaxy Note 3, Stock 4.4, Gear',\n",
              "       'Nexus 5 (Lollipop), 2012 Nexus 7 (KitKat)', 'Galaxy Nexus',\n",
              "       'genetics', 'T-Mobile Samsung Galaxy S5', 'Mean Foo',\n",
              "       'tree fucker', 'Xanderzeshredder', 'GEN3RIC', 'HTC One',\n",
              "       'EDMGearNHL', 'EDMOldNHL', 'CSH, CompSci 2011',\n",
              "       'You Are An Explorer', 'Zodiac, Fourplay, Mega, Le Toy 3.',\n",
              "       'Lex-Ham', 'Never Sleeps', 'TX - 2007 Honda VTX1800F',\n",
              "       'Newfoundland and Labrador', 'A Feast for Crows',\n",
              "       'this is your god speaking', 'Portsmouth',\n",
              "       'Martin/Gibson/Epiphone', 'FP&amp;A', 'Jersey City',\n",
              "       '89 crx hf w/b16', 'Boglizk', 'AHLBridgeportSoundTigers',\n",
              "       'soundcloud.com/howlround 15 yrs', 'pw: pioneer47',\n",
              "       'Accounting - 2011', 'Proud Southern Italian',\n",
              "       'PC - m1ss1ontomars', 'Sebastian Vettel', 'Lions',\n",
              "       '2005 Chrysler Crossfire SRT-6 / 2013 Dodge Dart Limited',\n",
              "       'chungkaishek', 'Classics', 'djspectre',\n",
              "       'Upgrade to Excellent Advice for only $99.95!', 'Gnostic Atheist',\n",
              "       '(NoVA) 2004 BMW R 1150 RT', 'Eurolisk', 'Green Line', 'ISyE',\n",
              "       'Eastwood Coronado Deluxe', 'Georgist', 'Cowbirds in Love',\n",
              "       'Red Tide', 'University Heights', 'Phaiz', 'born and bred',\n",
              "       'Author', 'SmokeWiidEvryDay', 'OG Moto X',\n",
              "       'https://www.flickr.com/photos/gishman/', 'plazman30',\n",
              "       'Pohjois-Pohjanmaa', '3', 'Nico Rosberg', 'MTLNHL', '1980 CJ-7',\n",
              "       'has a new destination', 'Hitpoint', 'Mitchell 17',\n",
              "       'Weightlifting', 'IIHFUSA', 'Boy Detective Fails',\n",
              "       'SGS4 Cyanogen 11 nightlies', 'george_jettison',\n",
              "       'Kuota Kebel 2010', \"Korean People's Army\", 'Troll in the Corner',\n",
              "       'Scarborough City Centre', 'radio reddit',\n",
              "       'Philly | overweight White Wolf Neckbeard',\n",
              "       'Author of \"Invent with Python\" books', 'Rightc0ast', 'Fremont',\n",
              "       'Published/Indie Author, Content Editor', 'Last Res0rt',\n",
              "       'http://www.goodreads.com/user/show/788794', 'soundnerd',\n",
              "       'Naughty Dog', 'NO! WAIT! I changed my mi', 'ORANGE!!!!',\n",
              "       'etherkill', 'Bipolar 1 ', 'Falkirk', 'Clownshoes',\n",
              "       'BSc|Physics and Astronomy|Education', 'Strongman'], dtype=object)"
            ]
          },
          "metadata": {
            "tags": []
          },
          "execution_count": 18
        }
      ],
      "metadata": {
        "colab": {
          "base_uri": "https://localhost:8080/"
        },
        "id": "WnnN81d-QMgl",
        "outputId": "7d925852-2f21-4002-c5c6-354c56d9a6a8"
      }
    },
    {
      "cell_type": "code",
      "execution_count": 19,
      "source": [
        " df['distinguished'].unique()"
      ],
      "outputs": [
        {
          "output_type": "execute_result",
          "data": {
            "text/plain": [
              "array([None, 'moderator', 'admin'], dtype=object)"
            ]
          },
          "metadata": {
            "tags": []
          },
          "execution_count": 19
        }
      ],
      "metadata": {
        "colab": {
          "base_uri": "https://localhost:8080/"
        },
        "id": "j3PdHOHPQXIy",
        "outputId": "e10e3764-acb1-4997-cc46-2cd9166b0e93"
      }
    },
    {
      "cell_type": "code",
      "execution_count": 20,
      "source": [
        "import seaborn as sns\r\n",
        "sns.pairplot(df)"
      ],
      "outputs": [
        {
          "output_type": "stream",
          "name": "stderr",
          "text": [
            "<string>:6: RuntimeWarning: Converting input from bool to <class 'numpy.uint8'> for compatibility.\n",
            "<string>:6: RuntimeWarning: Converting input from bool to <class 'numpy.uint8'> for compatibility.\n"
          ]
        },
        {
          "output_type": "error",
          "ename": "KeyboardInterrupt",
          "evalue": "ignored",
          "traceback": [
            "\u001b[0;31m---------------------------------------------------------------------------\u001b[0m",
            "\u001b[0;31mKeyboardInterrupt\u001b[0m                         Traceback (most recent call last)",
            "\u001b[0;32m<ipython-input-20-541c32312790>\u001b[0m in \u001b[0;36m<module>\u001b[0;34m()\u001b[0m\n\u001b[1;32m      1\u001b[0m \u001b[0;32mimport\u001b[0m \u001b[0mseaborn\u001b[0m \u001b[0;32mas\u001b[0m \u001b[0msns\u001b[0m\u001b[0;34m\u001b[0m\u001b[0;34m\u001b[0m\u001b[0m\n\u001b[0;32m----> 2\u001b[0;31m \u001b[0msns\u001b[0m\u001b[0;34m.\u001b[0m\u001b[0mpairplot\u001b[0m\u001b[0;34m(\u001b[0m\u001b[0mdf\u001b[0m\u001b[0;34m)\u001b[0m\u001b[0;34m\u001b[0m\u001b[0;34m\u001b[0m\u001b[0m\n\u001b[0m",
            "\u001b[0;32m/usr/local/lib/python3.7/dist-packages/seaborn/_decorators.py\u001b[0m in \u001b[0;36minner_f\u001b[0;34m(*args, **kwargs)\u001b[0m\n\u001b[1;32m     44\u001b[0m             )\n\u001b[1;32m     45\u001b[0m         \u001b[0mkwargs\u001b[0m\u001b[0;34m.\u001b[0m\u001b[0mupdate\u001b[0m\u001b[0;34m(\u001b[0m\u001b[0;34m{\u001b[0m\u001b[0mk\u001b[0m\u001b[0;34m:\u001b[0m \u001b[0marg\u001b[0m \u001b[0;32mfor\u001b[0m \u001b[0mk\u001b[0m\u001b[0;34m,\u001b[0m \u001b[0marg\u001b[0m \u001b[0;32min\u001b[0m \u001b[0mzip\u001b[0m\u001b[0;34m(\u001b[0m\u001b[0msig\u001b[0m\u001b[0;34m.\u001b[0m\u001b[0mparameters\u001b[0m\u001b[0;34m,\u001b[0m \u001b[0margs\u001b[0m\u001b[0;34m)\u001b[0m\u001b[0;34m}\u001b[0m\u001b[0;34m)\u001b[0m\u001b[0;34m\u001b[0m\u001b[0;34m\u001b[0m\u001b[0m\n\u001b[0;32m---> 46\u001b[0;31m         \u001b[0;32mreturn\u001b[0m \u001b[0mf\u001b[0m\u001b[0;34m(\u001b[0m\u001b[0;34m**\u001b[0m\u001b[0mkwargs\u001b[0m\u001b[0;34m)\u001b[0m\u001b[0;34m\u001b[0m\u001b[0;34m\u001b[0m\u001b[0m\n\u001b[0m\u001b[1;32m     47\u001b[0m     \u001b[0;32mreturn\u001b[0m \u001b[0minner_f\u001b[0m\u001b[0;34m\u001b[0m\u001b[0;34m\u001b[0m\u001b[0m\n\u001b[1;32m     48\u001b[0m \u001b[0;34m\u001b[0m\u001b[0m\n",
            "\u001b[0;32m/usr/local/lib/python3.7/dist-packages/seaborn/axisgrid.py\u001b[0m in \u001b[0;36mpairplot\u001b[0;34m(data, hue, hue_order, palette, vars, x_vars, y_vars, kind, diag_kind, markers, height, aspect, corner, dropna, plot_kws, diag_kws, grid_kws, size)\u001b[0m\n\u001b[1;32m   2017\u001b[0m     \u001b[0mdiag_kws\u001b[0m\u001b[0;34m.\u001b[0m\u001b[0msetdefault\u001b[0m\u001b[0;34m(\u001b[0m\u001b[0;34m\"legend\"\u001b[0m\u001b[0;34m,\u001b[0m \u001b[0;32mFalse\u001b[0m\u001b[0;34m)\u001b[0m\u001b[0;34m\u001b[0m\u001b[0;34m\u001b[0m\u001b[0m\n\u001b[1;32m   2018\u001b[0m     \u001b[0;32mif\u001b[0m \u001b[0mdiag_kind\u001b[0m \u001b[0;34m==\u001b[0m \u001b[0;34m\"hist\"\u001b[0m\u001b[0;34m:\u001b[0m\u001b[0;34m\u001b[0m\u001b[0;34m\u001b[0m\u001b[0m\n\u001b[0;32m-> 2019\u001b[0;31m         \u001b[0mgrid\u001b[0m\u001b[0;34m.\u001b[0m\u001b[0mmap_diag\u001b[0m\u001b[0;34m(\u001b[0m\u001b[0mhistplot\u001b[0m\u001b[0;34m,\u001b[0m \u001b[0;34m**\u001b[0m\u001b[0mdiag_kws\u001b[0m\u001b[0;34m)\u001b[0m\u001b[0;34m\u001b[0m\u001b[0;34m\u001b[0m\u001b[0m\n\u001b[0m\u001b[1;32m   2020\u001b[0m     \u001b[0;32melif\u001b[0m \u001b[0mdiag_kind\u001b[0m \u001b[0;34m==\u001b[0m \u001b[0;34m\"kde\"\u001b[0m\u001b[0;34m:\u001b[0m\u001b[0;34m\u001b[0m\u001b[0;34m\u001b[0m\u001b[0m\n\u001b[1;32m   2021\u001b[0m         \u001b[0mdiag_kws\u001b[0m\u001b[0;34m.\u001b[0m\u001b[0msetdefault\u001b[0m\u001b[0;34m(\u001b[0m\u001b[0;34m\"fill\"\u001b[0m\u001b[0;34m,\u001b[0m \u001b[0;32mTrue\u001b[0m\u001b[0;34m)\u001b[0m\u001b[0;34m\u001b[0m\u001b[0;34m\u001b[0m\u001b[0m\n",
            "\u001b[0;32m/usr/local/lib/python3.7/dist-packages/seaborn/axisgrid.py\u001b[0m in \u001b[0;36mmap_diag\u001b[0;34m(self, func, **kwargs)\u001b[0m\n\u001b[1;32m   1400\u001b[0m             \u001b[0mplot_kwargs\u001b[0m\u001b[0;34m.\u001b[0m\u001b[0msetdefault\u001b[0m\u001b[0;34m(\u001b[0m\u001b[0;34m\"hue_order\"\u001b[0m\u001b[0;34m,\u001b[0m \u001b[0mself\u001b[0m\u001b[0;34m.\u001b[0m\u001b[0m_hue_order\u001b[0m\u001b[0;34m)\u001b[0m\u001b[0;34m\u001b[0m\u001b[0;34m\u001b[0m\u001b[0m\n\u001b[1;32m   1401\u001b[0m             \u001b[0mplot_kwargs\u001b[0m\u001b[0;34m.\u001b[0m\u001b[0msetdefault\u001b[0m\u001b[0;34m(\u001b[0m\u001b[0;34m\"palette\"\u001b[0m\u001b[0;34m,\u001b[0m \u001b[0mself\u001b[0m\u001b[0;34m.\u001b[0m\u001b[0m_orig_palette\u001b[0m\u001b[0;34m)\u001b[0m\u001b[0;34m\u001b[0m\u001b[0;34m\u001b[0m\u001b[0m\n\u001b[0;32m-> 1402\u001b[0;31m             \u001b[0mfunc\u001b[0m\u001b[0;34m(\u001b[0m\u001b[0mx\u001b[0m\u001b[0;34m=\u001b[0m\u001b[0mvector\u001b[0m\u001b[0;34m,\u001b[0m \u001b[0;34m**\u001b[0m\u001b[0mplot_kwargs\u001b[0m\u001b[0;34m)\u001b[0m\u001b[0;34m\u001b[0m\u001b[0;34m\u001b[0m\u001b[0m\n\u001b[0m\u001b[1;32m   1403\u001b[0m             \u001b[0mself\u001b[0m\u001b[0;34m.\u001b[0m\u001b[0m_clean_axis\u001b[0m\u001b[0;34m(\u001b[0m\u001b[0max\u001b[0m\u001b[0;34m)\u001b[0m\u001b[0;34m\u001b[0m\u001b[0;34m\u001b[0m\u001b[0m\n\u001b[1;32m   1404\u001b[0m \u001b[0;34m\u001b[0m\u001b[0m\n",
            "\u001b[0;32m/usr/local/lib/python3.7/dist-packages/seaborn/distributions.py\u001b[0m in \u001b[0;36mhistplot\u001b[0;34m(data, x, y, hue, weights, stat, bins, binwidth, binrange, discrete, cumulative, common_bins, common_norm, multiple, element, fill, shrink, kde, kde_kws, line_kws, thresh, pthresh, pmax, cbar, cbar_ax, cbar_kws, palette, hue_order, hue_norm, color, log_scale, legend, ax, **kwargs)\u001b[0m\n\u001b[1;32m   1434\u001b[0m             \u001b[0mestimate_kws\u001b[0m\u001b[0;34m=\u001b[0m\u001b[0mestimate_kws\u001b[0m\u001b[0;34m,\u001b[0m\u001b[0;34m\u001b[0m\u001b[0;34m\u001b[0m\u001b[0m\n\u001b[1;32m   1435\u001b[0m             \u001b[0mline_kws\u001b[0m\u001b[0;34m=\u001b[0m\u001b[0mline_kws\u001b[0m\u001b[0;34m,\u001b[0m\u001b[0;34m\u001b[0m\u001b[0;34m\u001b[0m\u001b[0m\n\u001b[0;32m-> 1436\u001b[0;31m             \u001b[0;34m**\u001b[0m\u001b[0mkwargs\u001b[0m\u001b[0;34m,\u001b[0m\u001b[0;34m\u001b[0m\u001b[0;34m\u001b[0m\u001b[0m\n\u001b[0m\u001b[1;32m   1437\u001b[0m         )\n\u001b[1;32m   1438\u001b[0m \u001b[0;34m\u001b[0m\u001b[0m\n",
            "\u001b[0;32m/usr/local/lib/python3.7/dist-packages/seaborn/distributions.py\u001b[0m in \u001b[0;36mplot_univariate_histogram\u001b[0;34m(self, multiple, element, fill, common_norm, common_bins, shrink, kde, kde_kws, color, legend, line_kws, estimate_kws, **plot_kws)\u001b[0m\n\u001b[1;32m    559\u001b[0m                     \u001b[0mbottom\u001b[0m\u001b[0;34m,\u001b[0m\u001b[0;34m\u001b[0m\u001b[0;34m\u001b[0m\u001b[0m\n\u001b[1;32m    560\u001b[0m                     \u001b[0malign\u001b[0m\u001b[0;34m=\u001b[0m\u001b[0;34m\"edge\"\u001b[0m\u001b[0;34m,\u001b[0m\u001b[0;34m\u001b[0m\u001b[0;34m\u001b[0m\u001b[0m\n\u001b[0;32m--> 561\u001b[0;31m                     \u001b[0;34m**\u001b[0m\u001b[0martist_kws\u001b[0m\u001b[0;34m,\u001b[0m\u001b[0;34m\u001b[0m\u001b[0;34m\u001b[0m\u001b[0m\n\u001b[0m\u001b[1;32m    562\u001b[0m                 )\n\u001b[1;32m    563\u001b[0m                 \u001b[0;32mfor\u001b[0m \u001b[0mbar\u001b[0m \u001b[0;32min\u001b[0m \u001b[0martists\u001b[0m\u001b[0;34m:\u001b[0m\u001b[0;34m\u001b[0m\u001b[0;34m\u001b[0m\u001b[0m\n",
            "\u001b[0;32m/usr/local/lib/python3.7/dist-packages/matplotlib/__init__.py\u001b[0m in \u001b[0;36minner\u001b[0;34m(ax, data, *args, **kwargs)\u001b[0m\n\u001b[1;32m   1563\u001b[0m     \u001b[0;32mdef\u001b[0m \u001b[0minner\u001b[0m\u001b[0;34m(\u001b[0m\u001b[0max\u001b[0m\u001b[0;34m,\u001b[0m \u001b[0;34m*\u001b[0m\u001b[0margs\u001b[0m\u001b[0;34m,\u001b[0m \u001b[0mdata\u001b[0m\u001b[0;34m=\u001b[0m\u001b[0;32mNone\u001b[0m\u001b[0;34m,\u001b[0m \u001b[0;34m**\u001b[0m\u001b[0mkwargs\u001b[0m\u001b[0;34m)\u001b[0m\u001b[0;34m:\u001b[0m\u001b[0;34m\u001b[0m\u001b[0;34m\u001b[0m\u001b[0m\n\u001b[1;32m   1564\u001b[0m         \u001b[0;32mif\u001b[0m \u001b[0mdata\u001b[0m \u001b[0;32mis\u001b[0m \u001b[0;32mNone\u001b[0m\u001b[0;34m:\u001b[0m\u001b[0;34m\u001b[0m\u001b[0;34m\u001b[0m\u001b[0m\n\u001b[0;32m-> 1565\u001b[0;31m             \u001b[0;32mreturn\u001b[0m \u001b[0mfunc\u001b[0m\u001b[0;34m(\u001b[0m\u001b[0max\u001b[0m\u001b[0;34m,\u001b[0m \u001b[0;34m*\u001b[0m\u001b[0mmap\u001b[0m\u001b[0;34m(\u001b[0m\u001b[0msanitize_sequence\u001b[0m\u001b[0;34m,\u001b[0m \u001b[0margs\u001b[0m\u001b[0;34m)\u001b[0m\u001b[0;34m,\u001b[0m \u001b[0;34m**\u001b[0m\u001b[0mkwargs\u001b[0m\u001b[0;34m)\u001b[0m\u001b[0;34m\u001b[0m\u001b[0;34m\u001b[0m\u001b[0m\n\u001b[0m\u001b[1;32m   1566\u001b[0m \u001b[0;34m\u001b[0m\u001b[0m\n\u001b[1;32m   1567\u001b[0m         \u001b[0mbound\u001b[0m \u001b[0;34m=\u001b[0m \u001b[0mnew_sig\u001b[0m\u001b[0;34m.\u001b[0m\u001b[0mbind\u001b[0m\u001b[0;34m(\u001b[0m\u001b[0max\u001b[0m\u001b[0;34m,\u001b[0m \u001b[0;34m*\u001b[0m\u001b[0margs\u001b[0m\u001b[0;34m,\u001b[0m \u001b[0;34m**\u001b[0m\u001b[0mkwargs\u001b[0m\u001b[0;34m)\u001b[0m\u001b[0;34m\u001b[0m\u001b[0;34m\u001b[0m\u001b[0m\n",
            "\u001b[0;32m/usr/local/lib/python3.7/dist-packages/matplotlib/axes/_axes.py\u001b[0m in \u001b[0;36mbar\u001b[0;34m(self, x, height, width, bottom, align, **kwargs)\u001b[0m\n\u001b[1;32m   2402\u001b[0m             \u001b[0;32melif\u001b[0m \u001b[0morientation\u001b[0m \u001b[0;34m==\u001b[0m \u001b[0;34m'horizontal'\u001b[0m\u001b[0;34m:\u001b[0m\u001b[0;34m\u001b[0m\u001b[0;34m\u001b[0m\u001b[0m\n\u001b[1;32m   2403\u001b[0m                 \u001b[0mr\u001b[0m\u001b[0;34m.\u001b[0m\u001b[0msticky_edges\u001b[0m\u001b[0;34m.\u001b[0m\u001b[0mx\u001b[0m\u001b[0;34m.\u001b[0m\u001b[0mappend\u001b[0m\u001b[0;34m(\u001b[0m\u001b[0ml\u001b[0m\u001b[0;34m)\u001b[0m\u001b[0;34m\u001b[0m\u001b[0;34m\u001b[0m\u001b[0m\n\u001b[0;32m-> 2404\u001b[0;31m             \u001b[0mself\u001b[0m\u001b[0;34m.\u001b[0m\u001b[0madd_patch\u001b[0m\u001b[0;34m(\u001b[0m\u001b[0mr\u001b[0m\u001b[0;34m)\u001b[0m\u001b[0;34m\u001b[0m\u001b[0;34m\u001b[0m\u001b[0m\n\u001b[0m\u001b[1;32m   2405\u001b[0m             \u001b[0mpatches\u001b[0m\u001b[0;34m.\u001b[0m\u001b[0mappend\u001b[0m\u001b[0;34m(\u001b[0m\u001b[0mr\u001b[0m\u001b[0;34m)\u001b[0m\u001b[0;34m\u001b[0m\u001b[0;34m\u001b[0m\u001b[0m\n\u001b[1;32m   2406\u001b[0m \u001b[0;34m\u001b[0m\u001b[0m\n",
            "\u001b[0;32m/usr/local/lib/python3.7/dist-packages/matplotlib/axes/_base.py\u001b[0m in \u001b[0;36madd_patch\u001b[0;34m(self, p)\u001b[0m\n\u001b[1;32m   1916\u001b[0m         \u001b[0mself\u001b[0m\u001b[0;34m.\u001b[0m\u001b[0m_set_artist_props\u001b[0m\u001b[0;34m(\u001b[0m\u001b[0mp\u001b[0m\u001b[0;34m)\u001b[0m\u001b[0;34m\u001b[0m\u001b[0;34m\u001b[0m\u001b[0m\n\u001b[1;32m   1917\u001b[0m         \u001b[0;32mif\u001b[0m \u001b[0mp\u001b[0m\u001b[0;34m.\u001b[0m\u001b[0mget_clip_path\u001b[0m\u001b[0;34m(\u001b[0m\u001b[0;34m)\u001b[0m \u001b[0;32mis\u001b[0m \u001b[0;32mNone\u001b[0m\u001b[0;34m:\u001b[0m\u001b[0;34m\u001b[0m\u001b[0;34m\u001b[0m\u001b[0m\n\u001b[0;32m-> 1918\u001b[0;31m             \u001b[0mp\u001b[0m\u001b[0;34m.\u001b[0m\u001b[0mset_clip_path\u001b[0m\u001b[0;34m(\u001b[0m\u001b[0mself\u001b[0m\u001b[0;34m.\u001b[0m\u001b[0mpatch\u001b[0m\u001b[0;34m)\u001b[0m\u001b[0;34m\u001b[0m\u001b[0;34m\u001b[0m\u001b[0m\n\u001b[0m\u001b[1;32m   1919\u001b[0m         \u001b[0mself\u001b[0m\u001b[0;34m.\u001b[0m\u001b[0m_update_patch_limits\u001b[0m\u001b[0;34m(\u001b[0m\u001b[0mp\u001b[0m\u001b[0;34m)\u001b[0m\u001b[0;34m\u001b[0m\u001b[0;34m\u001b[0m\u001b[0m\n\u001b[1;32m   1920\u001b[0m         \u001b[0mself\u001b[0m\u001b[0;34m.\u001b[0m\u001b[0mpatches\u001b[0m\u001b[0;34m.\u001b[0m\u001b[0mappend\u001b[0m\u001b[0;34m(\u001b[0m\u001b[0mp\u001b[0m\u001b[0;34m)\u001b[0m\u001b[0;34m\u001b[0m\u001b[0;34m\u001b[0m\u001b[0m\n",
            "\u001b[0;32m/usr/local/lib/python3.7/dist-packages/matplotlib/artist.py\u001b[0m in \u001b[0;36mset_clip_path\u001b[0;34m(self, path, transform)\u001b[0m\n\u001b[1;32m    760\u001b[0m             \u001b[0;32mif\u001b[0m \u001b[0misinstance\u001b[0m\u001b[0;34m(\u001b[0m\u001b[0mpath\u001b[0m\u001b[0;34m,\u001b[0m \u001b[0mRectangle\u001b[0m\u001b[0;34m)\u001b[0m\u001b[0;34m:\u001b[0m\u001b[0;34m\u001b[0m\u001b[0;34m\u001b[0m\u001b[0m\n\u001b[1;32m    761\u001b[0m                 self.clipbox = TransformedBbox(Bbox.unit(),\n\u001b[0;32m--> 762\u001b[0;31m                                                path.get_transform())\n\u001b[0m\u001b[1;32m    763\u001b[0m                 \u001b[0mself\u001b[0m\u001b[0;34m.\u001b[0m\u001b[0m_clippath\u001b[0m \u001b[0;34m=\u001b[0m \u001b[0;32mNone\u001b[0m\u001b[0;34m\u001b[0m\u001b[0;34m\u001b[0m\u001b[0m\n\u001b[1;32m    764\u001b[0m                 \u001b[0msuccess\u001b[0m \u001b[0;34m=\u001b[0m \u001b[0;32mTrue\u001b[0m\u001b[0;34m\u001b[0m\u001b[0;34m\u001b[0m\u001b[0m\n",
            "\u001b[0;32m/usr/local/lib/python3.7/dist-packages/matplotlib/transforms.py\u001b[0m in \u001b[0;36m__init__\u001b[0;34m(self, bbox, transform, **kwargs)\u001b[0m\n\u001b[1;32m   1002\u001b[0m         \u001b[0mself\u001b[0m\u001b[0;34m.\u001b[0m\u001b[0m_bbox\u001b[0m \u001b[0;34m=\u001b[0m \u001b[0mbbox\u001b[0m\u001b[0;34m\u001b[0m\u001b[0;34m\u001b[0m\u001b[0m\n\u001b[1;32m   1003\u001b[0m         \u001b[0mself\u001b[0m\u001b[0;34m.\u001b[0m\u001b[0m_transform\u001b[0m \u001b[0;34m=\u001b[0m \u001b[0mtransform\u001b[0m\u001b[0;34m\u001b[0m\u001b[0;34m\u001b[0m\u001b[0m\n\u001b[0;32m-> 1004\u001b[0;31m         \u001b[0mself\u001b[0m\u001b[0;34m.\u001b[0m\u001b[0mset_children\u001b[0m\u001b[0;34m(\u001b[0m\u001b[0mbbox\u001b[0m\u001b[0;34m,\u001b[0m \u001b[0mtransform\u001b[0m\u001b[0;34m)\u001b[0m\u001b[0;34m\u001b[0m\u001b[0;34m\u001b[0m\u001b[0m\n\u001b[0m\u001b[1;32m   1005\u001b[0m         \u001b[0mself\u001b[0m\u001b[0;34m.\u001b[0m\u001b[0m_points\u001b[0m \u001b[0;34m=\u001b[0m \u001b[0;32mNone\u001b[0m\u001b[0;34m\u001b[0m\u001b[0;34m\u001b[0m\u001b[0m\n\u001b[1;32m   1006\u001b[0m \u001b[0;34m\u001b[0m\u001b[0m\n",
            "\u001b[0;32m/usr/local/lib/python3.7/dist-packages/matplotlib/transforms.py\u001b[0m in \u001b[0;36mset_children\u001b[0;34m(self, *children)\u001b[0m\n\u001b[1;32m    176\u001b[0m             \u001b[0;31m# performance improvement over using WeakValueDictionary.\u001b[0m\u001b[0;34m\u001b[0m\u001b[0;34m\u001b[0m\u001b[0;34m\u001b[0m\u001b[0m\n\u001b[1;32m    177\u001b[0m             ref = weakref.ref(self, lambda ref, sid=id(self),\n\u001b[0;32m--> 178\u001b[0;31m                                         target=child._parents: target.pop(sid))\n\u001b[0m\u001b[1;32m    179\u001b[0m             \u001b[0mchild\u001b[0m\u001b[0;34m.\u001b[0m\u001b[0m_parents\u001b[0m\u001b[0;34m[\u001b[0m\u001b[0mid\u001b[0m\u001b[0;34m(\u001b[0m\u001b[0mself\u001b[0m\u001b[0;34m)\u001b[0m\u001b[0;34m]\u001b[0m \u001b[0;34m=\u001b[0m \u001b[0mref\u001b[0m\u001b[0;34m\u001b[0m\u001b[0;34m\u001b[0m\u001b[0m\n\u001b[1;32m    180\u001b[0m \u001b[0;34m\u001b[0m\u001b[0m\n",
            "\u001b[0;31mKeyboardInterrupt\u001b[0m: "
          ]
        },
        {
          "output_type": "stream",
          "name": "stdout",
          "text": [
            "Error in callback <function install_repl_displayhook.<locals>.post_execute at 0x7fc7e6c42560> (for post_execute):\n"
          ]
        },
        {
          "output_type": "error",
          "ename": "KeyboardInterrupt",
          "evalue": "ignored",
          "traceback": [
            "\u001b[0;31m---------------------------------------------------------------------------\u001b[0m",
            "\u001b[0;31mKeyboardInterrupt\u001b[0m                         Traceback (most recent call last)",
            "\u001b[0;32m/usr/local/lib/python3.7/dist-packages/matplotlib/pyplot.py\u001b[0m in \u001b[0;36mpost_execute\u001b[0;34m()\u001b[0m\n\u001b[1;32m    107\u001b[0m             \u001b[0;32mdef\u001b[0m \u001b[0mpost_execute\u001b[0m\u001b[0;34m(\u001b[0m\u001b[0;34m)\u001b[0m\u001b[0;34m:\u001b[0m\u001b[0;34m\u001b[0m\u001b[0;34m\u001b[0m\u001b[0m\n\u001b[1;32m    108\u001b[0m                 \u001b[0;32mif\u001b[0m \u001b[0mmatplotlib\u001b[0m\u001b[0;34m.\u001b[0m\u001b[0mis_interactive\u001b[0m\u001b[0;34m(\u001b[0m\u001b[0;34m)\u001b[0m\u001b[0;34m:\u001b[0m\u001b[0;34m\u001b[0m\u001b[0;34m\u001b[0m\u001b[0m\n\u001b[0;32m--> 109\u001b[0;31m                     \u001b[0mdraw_all\u001b[0m\u001b[0;34m(\u001b[0m\u001b[0;34m)\u001b[0m\u001b[0;34m\u001b[0m\u001b[0;34m\u001b[0m\u001b[0m\n\u001b[0m\u001b[1;32m    110\u001b[0m \u001b[0;34m\u001b[0m\u001b[0m\n\u001b[1;32m    111\u001b[0m             \u001b[0;31m# IPython >= 2\u001b[0m\u001b[0;34m\u001b[0m\u001b[0;34m\u001b[0m\u001b[0;34m\u001b[0m\u001b[0m\n",
            "\u001b[0;32m/usr/local/lib/python3.7/dist-packages/matplotlib/_pylab_helpers.py\u001b[0m in \u001b[0;36mdraw_all\u001b[0;34m(cls, force)\u001b[0m\n\u001b[1;32m    125\u001b[0m         \u001b[0;32mfor\u001b[0m \u001b[0mf_mgr\u001b[0m \u001b[0;32min\u001b[0m \u001b[0mcls\u001b[0m\u001b[0;34m.\u001b[0m\u001b[0mget_all_fig_managers\u001b[0m\u001b[0;34m(\u001b[0m\u001b[0;34m)\u001b[0m\u001b[0;34m:\u001b[0m\u001b[0;34m\u001b[0m\u001b[0;34m\u001b[0m\u001b[0m\n\u001b[1;32m    126\u001b[0m             \u001b[0;32mif\u001b[0m \u001b[0mforce\u001b[0m \u001b[0;32mor\u001b[0m \u001b[0mf_mgr\u001b[0m\u001b[0;34m.\u001b[0m\u001b[0mcanvas\u001b[0m\u001b[0;34m.\u001b[0m\u001b[0mfigure\u001b[0m\u001b[0;34m.\u001b[0m\u001b[0mstale\u001b[0m\u001b[0;34m:\u001b[0m\u001b[0;34m\u001b[0m\u001b[0;34m\u001b[0m\u001b[0m\n\u001b[0;32m--> 127\u001b[0;31m                 \u001b[0mf_mgr\u001b[0m\u001b[0;34m.\u001b[0m\u001b[0mcanvas\u001b[0m\u001b[0;34m.\u001b[0m\u001b[0mdraw_idle\u001b[0m\u001b[0;34m(\u001b[0m\u001b[0;34m)\u001b[0m\u001b[0;34m\u001b[0m\u001b[0;34m\u001b[0m\u001b[0m\n\u001b[0m\u001b[1;32m    128\u001b[0m \u001b[0;34m\u001b[0m\u001b[0m\n\u001b[1;32m    129\u001b[0m \u001b[0matexit\u001b[0m\u001b[0;34m.\u001b[0m\u001b[0mregister\u001b[0m\u001b[0;34m(\u001b[0m\u001b[0mGcf\u001b[0m\u001b[0;34m.\u001b[0m\u001b[0mdestroy_all\u001b[0m\u001b[0;34m)\u001b[0m\u001b[0;34m\u001b[0m\u001b[0;34m\u001b[0m\u001b[0m\n",
            "\u001b[0;32m/usr/local/lib/python3.7/dist-packages/matplotlib/backend_bases.py\u001b[0m in \u001b[0;36mdraw_idle\u001b[0;34m(self, *args, **kwargs)\u001b[0m\n\u001b[1;32m   1945\u001b[0m         \u001b[0;32mif\u001b[0m \u001b[0;32mnot\u001b[0m \u001b[0mself\u001b[0m\u001b[0;34m.\u001b[0m\u001b[0m_is_idle_drawing\u001b[0m\u001b[0;34m:\u001b[0m\u001b[0;34m\u001b[0m\u001b[0;34m\u001b[0m\u001b[0m\n\u001b[1;32m   1946\u001b[0m             \u001b[0;32mwith\u001b[0m \u001b[0mself\u001b[0m\u001b[0;34m.\u001b[0m\u001b[0m_idle_draw_cntx\u001b[0m\u001b[0;34m(\u001b[0m\u001b[0;34m)\u001b[0m\u001b[0;34m:\u001b[0m\u001b[0;34m\u001b[0m\u001b[0;34m\u001b[0m\u001b[0m\n\u001b[0;32m-> 1947\u001b[0;31m                 \u001b[0mself\u001b[0m\u001b[0;34m.\u001b[0m\u001b[0mdraw\u001b[0m\u001b[0;34m(\u001b[0m\u001b[0;34m*\u001b[0m\u001b[0margs\u001b[0m\u001b[0;34m,\u001b[0m \u001b[0;34m**\u001b[0m\u001b[0mkwargs\u001b[0m\u001b[0;34m)\u001b[0m\u001b[0;34m\u001b[0m\u001b[0;34m\u001b[0m\u001b[0m\n\u001b[0m\u001b[1;32m   1948\u001b[0m \u001b[0;34m\u001b[0m\u001b[0m\n\u001b[1;32m   1949\u001b[0m     \u001b[0;34m@\u001b[0m\u001b[0mcbook\u001b[0m\u001b[0;34m.\u001b[0m\u001b[0mdeprecated\u001b[0m\u001b[0;34m(\u001b[0m\u001b[0;34m\"3.2\"\u001b[0m\u001b[0;34m)\u001b[0m\u001b[0;34m\u001b[0m\u001b[0;34m\u001b[0m\u001b[0m\n",
            "\u001b[0;32m/usr/local/lib/python3.7/dist-packages/matplotlib/backends/backend_agg.py\u001b[0m in \u001b[0;36mdraw\u001b[0;34m(self)\u001b[0m\n\u001b[1;32m    391\u001b[0m              (self.toolbar._wait_cursor_for_draw_cm() if self.toolbar\n\u001b[1;32m    392\u001b[0m               else nullcontext()):\n\u001b[0;32m--> 393\u001b[0;31m             \u001b[0mself\u001b[0m\u001b[0;34m.\u001b[0m\u001b[0mfigure\u001b[0m\u001b[0;34m.\u001b[0m\u001b[0mdraw\u001b[0m\u001b[0;34m(\u001b[0m\u001b[0mself\u001b[0m\u001b[0;34m.\u001b[0m\u001b[0mrenderer\u001b[0m\u001b[0;34m)\u001b[0m\u001b[0;34m\u001b[0m\u001b[0;34m\u001b[0m\u001b[0m\n\u001b[0m\u001b[1;32m    394\u001b[0m             \u001b[0;31m# A GUI class may be need to update a window using this draw, so\u001b[0m\u001b[0;34m\u001b[0m\u001b[0;34m\u001b[0m\u001b[0;34m\u001b[0m\u001b[0m\n\u001b[1;32m    395\u001b[0m             \u001b[0;31m# don't forget to call the superclass.\u001b[0m\u001b[0;34m\u001b[0m\u001b[0;34m\u001b[0m\u001b[0;34m\u001b[0m\u001b[0m\n",
            "\u001b[0;32m/usr/local/lib/python3.7/dist-packages/matplotlib/artist.py\u001b[0m in \u001b[0;36mdraw_wrapper\u001b[0;34m(artist, renderer, *args, **kwargs)\u001b[0m\n\u001b[1;32m     36\u001b[0m                 \u001b[0mrenderer\u001b[0m\u001b[0;34m.\u001b[0m\u001b[0mstart_filter\u001b[0m\u001b[0;34m(\u001b[0m\u001b[0;34m)\u001b[0m\u001b[0;34m\u001b[0m\u001b[0;34m\u001b[0m\u001b[0m\n\u001b[1;32m     37\u001b[0m \u001b[0;34m\u001b[0m\u001b[0m\n\u001b[0;32m---> 38\u001b[0;31m             \u001b[0;32mreturn\u001b[0m \u001b[0mdraw\u001b[0m\u001b[0;34m(\u001b[0m\u001b[0martist\u001b[0m\u001b[0;34m,\u001b[0m \u001b[0mrenderer\u001b[0m\u001b[0;34m,\u001b[0m \u001b[0;34m*\u001b[0m\u001b[0margs\u001b[0m\u001b[0;34m,\u001b[0m \u001b[0;34m**\u001b[0m\u001b[0mkwargs\u001b[0m\u001b[0;34m)\u001b[0m\u001b[0;34m\u001b[0m\u001b[0;34m\u001b[0m\u001b[0m\n\u001b[0m\u001b[1;32m     39\u001b[0m         \u001b[0;32mfinally\u001b[0m\u001b[0;34m:\u001b[0m\u001b[0;34m\u001b[0m\u001b[0;34m\u001b[0m\u001b[0m\n\u001b[1;32m     40\u001b[0m             \u001b[0;32mif\u001b[0m \u001b[0martist\u001b[0m\u001b[0;34m.\u001b[0m\u001b[0mget_agg_filter\u001b[0m\u001b[0;34m(\u001b[0m\u001b[0;34m)\u001b[0m \u001b[0;32mis\u001b[0m \u001b[0;32mnot\u001b[0m \u001b[0;32mNone\u001b[0m\u001b[0;34m:\u001b[0m\u001b[0;34m\u001b[0m\u001b[0;34m\u001b[0m\u001b[0m\n",
            "\u001b[0;32m/usr/local/lib/python3.7/dist-packages/matplotlib/figure.py\u001b[0m in \u001b[0;36mdraw\u001b[0;34m(self, renderer)\u001b[0m\n\u001b[1;32m   1734\u001b[0m             \u001b[0mself\u001b[0m\u001b[0;34m.\u001b[0m\u001b[0mpatch\u001b[0m\u001b[0;34m.\u001b[0m\u001b[0mdraw\u001b[0m\u001b[0;34m(\u001b[0m\u001b[0mrenderer\u001b[0m\u001b[0;34m)\u001b[0m\u001b[0;34m\u001b[0m\u001b[0;34m\u001b[0m\u001b[0m\n\u001b[1;32m   1735\u001b[0m             mimage._draw_list_compositing_images(\n\u001b[0;32m-> 1736\u001b[0;31m                 renderer, self, artists, self.suppressComposite)\n\u001b[0m\u001b[1;32m   1737\u001b[0m \u001b[0;34m\u001b[0m\u001b[0m\n\u001b[1;32m   1738\u001b[0m             \u001b[0mrenderer\u001b[0m\u001b[0;34m.\u001b[0m\u001b[0mclose_group\u001b[0m\u001b[0;34m(\u001b[0m\u001b[0;34m'figure'\u001b[0m\u001b[0;34m)\u001b[0m\u001b[0;34m\u001b[0m\u001b[0;34m\u001b[0m\u001b[0m\n",
            "\u001b[0;32m/usr/local/lib/python3.7/dist-packages/matplotlib/image.py\u001b[0m in \u001b[0;36m_draw_list_compositing_images\u001b[0;34m(renderer, parent, artists, suppress_composite)\u001b[0m\n\u001b[1;32m    135\u001b[0m     \u001b[0;32mif\u001b[0m \u001b[0mnot_composite\u001b[0m \u001b[0;32mor\u001b[0m \u001b[0;32mnot\u001b[0m \u001b[0mhas_images\u001b[0m\u001b[0;34m:\u001b[0m\u001b[0;34m\u001b[0m\u001b[0;34m\u001b[0m\u001b[0m\n\u001b[1;32m    136\u001b[0m         \u001b[0;32mfor\u001b[0m \u001b[0ma\u001b[0m \u001b[0;32min\u001b[0m \u001b[0martists\u001b[0m\u001b[0;34m:\u001b[0m\u001b[0;34m\u001b[0m\u001b[0;34m\u001b[0m\u001b[0m\n\u001b[0;32m--> 137\u001b[0;31m             \u001b[0ma\u001b[0m\u001b[0;34m.\u001b[0m\u001b[0mdraw\u001b[0m\u001b[0;34m(\u001b[0m\u001b[0mrenderer\u001b[0m\u001b[0;34m)\u001b[0m\u001b[0;34m\u001b[0m\u001b[0;34m\u001b[0m\u001b[0m\n\u001b[0m\u001b[1;32m    138\u001b[0m     \u001b[0;32melse\u001b[0m\u001b[0;34m:\u001b[0m\u001b[0;34m\u001b[0m\u001b[0;34m\u001b[0m\u001b[0m\n\u001b[1;32m    139\u001b[0m         \u001b[0;31m# Composite any adjacent images together\u001b[0m\u001b[0;34m\u001b[0m\u001b[0;34m\u001b[0m\u001b[0;34m\u001b[0m\u001b[0m\n",
            "\u001b[0;32m/usr/local/lib/python3.7/dist-packages/matplotlib/artist.py\u001b[0m in \u001b[0;36mdraw_wrapper\u001b[0;34m(artist, renderer, *args, **kwargs)\u001b[0m\n\u001b[1;32m     36\u001b[0m                 \u001b[0mrenderer\u001b[0m\u001b[0;34m.\u001b[0m\u001b[0mstart_filter\u001b[0m\u001b[0;34m(\u001b[0m\u001b[0;34m)\u001b[0m\u001b[0;34m\u001b[0m\u001b[0;34m\u001b[0m\u001b[0m\n\u001b[1;32m     37\u001b[0m \u001b[0;34m\u001b[0m\u001b[0m\n\u001b[0;32m---> 38\u001b[0;31m             \u001b[0;32mreturn\u001b[0m \u001b[0mdraw\u001b[0m\u001b[0;34m(\u001b[0m\u001b[0martist\u001b[0m\u001b[0;34m,\u001b[0m \u001b[0mrenderer\u001b[0m\u001b[0;34m,\u001b[0m \u001b[0;34m*\u001b[0m\u001b[0margs\u001b[0m\u001b[0;34m,\u001b[0m \u001b[0;34m**\u001b[0m\u001b[0mkwargs\u001b[0m\u001b[0;34m)\u001b[0m\u001b[0;34m\u001b[0m\u001b[0;34m\u001b[0m\u001b[0m\n\u001b[0m\u001b[1;32m     39\u001b[0m         \u001b[0;32mfinally\u001b[0m\u001b[0;34m:\u001b[0m\u001b[0;34m\u001b[0m\u001b[0;34m\u001b[0m\u001b[0m\n\u001b[1;32m     40\u001b[0m             \u001b[0;32mif\u001b[0m \u001b[0martist\u001b[0m\u001b[0;34m.\u001b[0m\u001b[0mget_agg_filter\u001b[0m\u001b[0;34m(\u001b[0m\u001b[0;34m)\u001b[0m \u001b[0;32mis\u001b[0m \u001b[0;32mnot\u001b[0m \u001b[0;32mNone\u001b[0m\u001b[0;34m:\u001b[0m\u001b[0;34m\u001b[0m\u001b[0;34m\u001b[0m\u001b[0m\n",
            "\u001b[0;32m/usr/local/lib/python3.7/dist-packages/matplotlib/axes/_base.py\u001b[0m in \u001b[0;36mdraw\u001b[0;34m(self, renderer, inframe)\u001b[0m\n\u001b[1;32m   2628\u001b[0m             \u001b[0mrenderer\u001b[0m\u001b[0;34m.\u001b[0m\u001b[0mstop_rasterizing\u001b[0m\u001b[0;34m(\u001b[0m\u001b[0;34m)\u001b[0m\u001b[0;34m\u001b[0m\u001b[0;34m\u001b[0m\u001b[0m\n\u001b[1;32m   2629\u001b[0m \u001b[0;34m\u001b[0m\u001b[0m\n\u001b[0;32m-> 2630\u001b[0;31m         \u001b[0mmimage\u001b[0m\u001b[0;34m.\u001b[0m\u001b[0m_draw_list_compositing_images\u001b[0m\u001b[0;34m(\u001b[0m\u001b[0mrenderer\u001b[0m\u001b[0;34m,\u001b[0m \u001b[0mself\u001b[0m\u001b[0;34m,\u001b[0m \u001b[0martists\u001b[0m\u001b[0;34m)\u001b[0m\u001b[0;34m\u001b[0m\u001b[0;34m\u001b[0m\u001b[0m\n\u001b[0m\u001b[1;32m   2631\u001b[0m \u001b[0;34m\u001b[0m\u001b[0m\n\u001b[1;32m   2632\u001b[0m         \u001b[0mrenderer\u001b[0m\u001b[0;34m.\u001b[0m\u001b[0mclose_group\u001b[0m\u001b[0;34m(\u001b[0m\u001b[0;34m'axes'\u001b[0m\u001b[0;34m)\u001b[0m\u001b[0;34m\u001b[0m\u001b[0;34m\u001b[0m\u001b[0m\n",
            "\u001b[0;32m/usr/local/lib/python3.7/dist-packages/matplotlib/image.py\u001b[0m in \u001b[0;36m_draw_list_compositing_images\u001b[0;34m(renderer, parent, artists, suppress_composite)\u001b[0m\n\u001b[1;32m    135\u001b[0m     \u001b[0;32mif\u001b[0m \u001b[0mnot_composite\u001b[0m \u001b[0;32mor\u001b[0m \u001b[0;32mnot\u001b[0m \u001b[0mhas_images\u001b[0m\u001b[0;34m:\u001b[0m\u001b[0;34m\u001b[0m\u001b[0;34m\u001b[0m\u001b[0m\n\u001b[1;32m    136\u001b[0m         \u001b[0;32mfor\u001b[0m \u001b[0ma\u001b[0m \u001b[0;32min\u001b[0m \u001b[0martists\u001b[0m\u001b[0;34m:\u001b[0m\u001b[0;34m\u001b[0m\u001b[0;34m\u001b[0m\u001b[0m\n\u001b[0;32m--> 137\u001b[0;31m             \u001b[0ma\u001b[0m\u001b[0;34m.\u001b[0m\u001b[0mdraw\u001b[0m\u001b[0;34m(\u001b[0m\u001b[0mrenderer\u001b[0m\u001b[0;34m)\u001b[0m\u001b[0;34m\u001b[0m\u001b[0;34m\u001b[0m\u001b[0m\n\u001b[0m\u001b[1;32m    138\u001b[0m     \u001b[0;32melse\u001b[0m\u001b[0;34m:\u001b[0m\u001b[0;34m\u001b[0m\u001b[0;34m\u001b[0m\u001b[0m\n\u001b[1;32m    139\u001b[0m         \u001b[0;31m# Composite any adjacent images together\u001b[0m\u001b[0;34m\u001b[0m\u001b[0;34m\u001b[0m\u001b[0;34m\u001b[0m\u001b[0m\n",
            "\u001b[0;32m/usr/local/lib/python3.7/dist-packages/matplotlib/artist.py\u001b[0m in \u001b[0;36mdraw_wrapper\u001b[0;34m(artist, renderer, *args, **kwargs)\u001b[0m\n\u001b[1;32m     36\u001b[0m                 \u001b[0mrenderer\u001b[0m\u001b[0;34m.\u001b[0m\u001b[0mstart_filter\u001b[0m\u001b[0;34m(\u001b[0m\u001b[0;34m)\u001b[0m\u001b[0;34m\u001b[0m\u001b[0;34m\u001b[0m\u001b[0m\n\u001b[1;32m     37\u001b[0m \u001b[0;34m\u001b[0m\u001b[0m\n\u001b[0;32m---> 38\u001b[0;31m             \u001b[0;32mreturn\u001b[0m \u001b[0mdraw\u001b[0m\u001b[0;34m(\u001b[0m\u001b[0martist\u001b[0m\u001b[0;34m,\u001b[0m \u001b[0mrenderer\u001b[0m\u001b[0;34m,\u001b[0m \u001b[0;34m*\u001b[0m\u001b[0margs\u001b[0m\u001b[0;34m,\u001b[0m \u001b[0;34m**\u001b[0m\u001b[0mkwargs\u001b[0m\u001b[0;34m)\u001b[0m\u001b[0;34m\u001b[0m\u001b[0;34m\u001b[0m\u001b[0m\n\u001b[0m\u001b[1;32m     39\u001b[0m         \u001b[0;32mfinally\u001b[0m\u001b[0;34m:\u001b[0m\u001b[0;34m\u001b[0m\u001b[0;34m\u001b[0m\u001b[0m\n\u001b[1;32m     40\u001b[0m             \u001b[0;32mif\u001b[0m \u001b[0martist\u001b[0m\u001b[0;34m.\u001b[0m\u001b[0mget_agg_filter\u001b[0m\u001b[0;34m(\u001b[0m\u001b[0;34m)\u001b[0m \u001b[0;32mis\u001b[0m \u001b[0;32mnot\u001b[0m \u001b[0;32mNone\u001b[0m\u001b[0;34m:\u001b[0m\u001b[0;34m\u001b[0m\u001b[0;34m\u001b[0m\u001b[0m\n",
            "\u001b[0;32m/usr/local/lib/python3.7/dist-packages/matplotlib/patches.py\u001b[0m in \u001b[0;36mdraw\u001b[0;34m(self, renderer)\u001b[0m\n\u001b[1;32m    591\u001b[0m         \u001b[0;31m# Patch has traditionally ignored the dashoffset.\u001b[0m\u001b[0;34m\u001b[0m\u001b[0;34m\u001b[0m\u001b[0;34m\u001b[0m\u001b[0m\n\u001b[1;32m    592\u001b[0m         \u001b[0;32mwith\u001b[0m \u001b[0mcbook\u001b[0m\u001b[0;34m.\u001b[0m\u001b[0m_setattr_cm\u001b[0m\u001b[0;34m(\u001b[0m\u001b[0mself\u001b[0m\u001b[0;34m,\u001b[0m \u001b[0m_dashoffset\u001b[0m\u001b[0;34m=\u001b[0m\u001b[0;36m0\u001b[0m\u001b[0;34m)\u001b[0m\u001b[0;34m,\u001b[0m\u001b[0;31m \u001b[0m\u001b[0;31m\\\u001b[0m\u001b[0;34m\u001b[0m\u001b[0;34m\u001b[0m\u001b[0m\n\u001b[0;32m--> 593\u001b[0;31m                 \u001b[0mself\u001b[0m\u001b[0;34m.\u001b[0m\u001b[0m_bind_draw_path_function\u001b[0m\u001b[0;34m(\u001b[0m\u001b[0mrenderer\u001b[0m\u001b[0;34m)\u001b[0m \u001b[0;32mas\u001b[0m \u001b[0mdraw_path\u001b[0m\u001b[0;34m:\u001b[0m\u001b[0;34m\u001b[0m\u001b[0;34m\u001b[0m\u001b[0m\n\u001b[0m\u001b[1;32m    594\u001b[0m             \u001b[0mpath\u001b[0m \u001b[0;34m=\u001b[0m \u001b[0mself\u001b[0m\u001b[0;34m.\u001b[0m\u001b[0mget_path\u001b[0m\u001b[0;34m(\u001b[0m\u001b[0;34m)\u001b[0m\u001b[0;34m\u001b[0m\u001b[0;34m\u001b[0m\u001b[0m\n\u001b[1;32m    595\u001b[0m             \u001b[0mtransform\u001b[0m \u001b[0;34m=\u001b[0m \u001b[0mself\u001b[0m\u001b[0;34m.\u001b[0m\u001b[0mget_transform\u001b[0m\u001b[0;34m(\u001b[0m\u001b[0;34m)\u001b[0m\u001b[0;34m\u001b[0m\u001b[0;34m\u001b[0m\u001b[0m\n",
            "\u001b[0;32m/usr/lib/python3.7/contextlib.py\u001b[0m in \u001b[0;36m__enter__\u001b[0;34m(self)\u001b[0m\n\u001b[1;32m    110\u001b[0m         \u001b[0;32mdel\u001b[0m \u001b[0mself\u001b[0m\u001b[0;34m.\u001b[0m\u001b[0margs\u001b[0m\u001b[0;34m,\u001b[0m \u001b[0mself\u001b[0m\u001b[0;34m.\u001b[0m\u001b[0mkwds\u001b[0m\u001b[0;34m,\u001b[0m \u001b[0mself\u001b[0m\u001b[0;34m.\u001b[0m\u001b[0mfunc\u001b[0m\u001b[0;34m\u001b[0m\u001b[0;34m\u001b[0m\u001b[0m\n\u001b[1;32m    111\u001b[0m         \u001b[0;32mtry\u001b[0m\u001b[0;34m:\u001b[0m\u001b[0;34m\u001b[0m\u001b[0;34m\u001b[0m\u001b[0m\n\u001b[0;32m--> 112\u001b[0;31m             \u001b[0;32mreturn\u001b[0m \u001b[0mnext\u001b[0m\u001b[0;34m(\u001b[0m\u001b[0mself\u001b[0m\u001b[0;34m.\u001b[0m\u001b[0mgen\u001b[0m\u001b[0;34m)\u001b[0m\u001b[0;34m\u001b[0m\u001b[0;34m\u001b[0m\u001b[0m\n\u001b[0m\u001b[1;32m    113\u001b[0m         \u001b[0;32mexcept\u001b[0m \u001b[0mStopIteration\u001b[0m\u001b[0;34m:\u001b[0m\u001b[0;34m\u001b[0m\u001b[0;34m\u001b[0m\u001b[0m\n\u001b[1;32m    114\u001b[0m             \u001b[0;32mraise\u001b[0m \u001b[0mRuntimeError\u001b[0m\u001b[0;34m(\u001b[0m\u001b[0;34m\"generator didn't yield\"\u001b[0m\u001b[0;34m)\u001b[0m \u001b[0;32mfrom\u001b[0m \u001b[0;32mNone\u001b[0m\u001b[0;34m\u001b[0m\u001b[0;34m\u001b[0m\u001b[0m\n",
            "\u001b[0;32m/usr/local/lib/python3.7/dist-packages/matplotlib/patches.py\u001b[0m in \u001b[0;36m_bind_draw_path_function\u001b[0;34m(self, renderer)\u001b[0m\n\u001b[1;32m    536\u001b[0m \u001b[0;34m\u001b[0m\u001b[0m\n\u001b[1;32m    537\u001b[0m         \u001b[0mrenderer\u001b[0m\u001b[0;34m.\u001b[0m\u001b[0mopen_group\u001b[0m\u001b[0;34m(\u001b[0m\u001b[0;34m'patch'\u001b[0m\u001b[0;34m,\u001b[0m \u001b[0mself\u001b[0m\u001b[0;34m.\u001b[0m\u001b[0mget_gid\u001b[0m\u001b[0;34m(\u001b[0m\u001b[0;34m)\u001b[0m\u001b[0;34m)\u001b[0m\u001b[0;34m\u001b[0m\u001b[0;34m\u001b[0m\u001b[0m\n\u001b[0;32m--> 538\u001b[0;31m         \u001b[0mgc\u001b[0m \u001b[0;34m=\u001b[0m \u001b[0mrenderer\u001b[0m\u001b[0;34m.\u001b[0m\u001b[0mnew_gc\u001b[0m\u001b[0;34m(\u001b[0m\u001b[0;34m)\u001b[0m\u001b[0;34m\u001b[0m\u001b[0;34m\u001b[0m\u001b[0m\n\u001b[0m\u001b[1;32m    539\u001b[0m \u001b[0;34m\u001b[0m\u001b[0m\n\u001b[1;32m    540\u001b[0m         \u001b[0mgc\u001b[0m\u001b[0;34m.\u001b[0m\u001b[0mset_foreground\u001b[0m\u001b[0;34m(\u001b[0m\u001b[0mself\u001b[0m\u001b[0;34m.\u001b[0m\u001b[0m_edgecolor\u001b[0m\u001b[0;34m,\u001b[0m \u001b[0misRGBA\u001b[0m\u001b[0;34m=\u001b[0m\u001b[0;32mTrue\u001b[0m\u001b[0;34m)\u001b[0m\u001b[0;34m\u001b[0m\u001b[0;34m\u001b[0m\u001b[0m\n",
            "\u001b[0;32m/usr/local/lib/python3.7/dist-packages/matplotlib/backend_bases.py\u001b[0m in \u001b[0;36mnew_gc\u001b[0;34m(self)\u001b[0m\n\u001b[1;32m    656\u001b[0m     \u001b[0;32mdef\u001b[0m \u001b[0mnew_gc\u001b[0m\u001b[0;34m(\u001b[0m\u001b[0mself\u001b[0m\u001b[0;34m)\u001b[0m\u001b[0;34m:\u001b[0m\u001b[0;34m\u001b[0m\u001b[0;34m\u001b[0m\u001b[0m\n\u001b[1;32m    657\u001b[0m         \u001b[0;34m\"\"\"Return an instance of a `GraphicsContextBase`.\"\"\"\u001b[0m\u001b[0;34m\u001b[0m\u001b[0;34m\u001b[0m\u001b[0m\n\u001b[0;32m--> 658\u001b[0;31m         \u001b[0;32mreturn\u001b[0m \u001b[0mGraphicsContextBase\u001b[0m\u001b[0;34m(\u001b[0m\u001b[0;34m)\u001b[0m\u001b[0;34m\u001b[0m\u001b[0;34m\u001b[0m\u001b[0m\n\u001b[0m\u001b[1;32m    659\u001b[0m \u001b[0;34m\u001b[0m\u001b[0m\n\u001b[1;32m    660\u001b[0m     \u001b[0;32mdef\u001b[0m \u001b[0mpoints_to_pixels\u001b[0m\u001b[0;34m(\u001b[0m\u001b[0mself\u001b[0m\u001b[0;34m,\u001b[0m \u001b[0mpoints\u001b[0m\u001b[0;34m)\u001b[0m\u001b[0;34m:\u001b[0m\u001b[0;34m\u001b[0m\u001b[0;34m\u001b[0m\u001b[0m\n",
            "\u001b[0;32m/usr/local/lib/python3.7/dist-packages/matplotlib/backend_bases.py\u001b[0m in \u001b[0;36m__init__\u001b[0;34m(self)\u001b[0m\n\u001b[1;32m    748\u001b[0m         \u001b[0mself\u001b[0m\u001b[0;34m.\u001b[0m\u001b[0m_rgb\u001b[0m \u001b[0;34m=\u001b[0m \u001b[0;34m(\u001b[0m\u001b[0;36m0.0\u001b[0m\u001b[0;34m,\u001b[0m \u001b[0;36m0.0\u001b[0m\u001b[0;34m,\u001b[0m \u001b[0;36m0.0\u001b[0m\u001b[0;34m,\u001b[0m \u001b[0;36m1.0\u001b[0m\u001b[0;34m)\u001b[0m\u001b[0;34m\u001b[0m\u001b[0;34m\u001b[0m\u001b[0m\n\u001b[1;32m    749\u001b[0m         \u001b[0mself\u001b[0m\u001b[0;34m.\u001b[0m\u001b[0m_hatch\u001b[0m \u001b[0;34m=\u001b[0m \u001b[0;32mNone\u001b[0m\u001b[0;34m\u001b[0m\u001b[0;34m\u001b[0m\u001b[0m\n\u001b[0;32m--> 750\u001b[0;31m         \u001b[0mself\u001b[0m\u001b[0;34m.\u001b[0m\u001b[0m_hatch_color\u001b[0m \u001b[0;34m=\u001b[0m \u001b[0mcolors\u001b[0m\u001b[0;34m.\u001b[0m\u001b[0mto_rgba\u001b[0m\u001b[0;34m(\u001b[0m\u001b[0mrcParams\u001b[0m\u001b[0;34m[\u001b[0m\u001b[0;34m'hatch.color'\u001b[0m\u001b[0;34m]\u001b[0m\u001b[0;34m)\u001b[0m\u001b[0;34m\u001b[0m\u001b[0;34m\u001b[0m\u001b[0m\n\u001b[0m\u001b[1;32m    751\u001b[0m         \u001b[0mself\u001b[0m\u001b[0;34m.\u001b[0m\u001b[0m_hatch_linewidth\u001b[0m \u001b[0;34m=\u001b[0m \u001b[0mrcParams\u001b[0m\u001b[0;34m[\u001b[0m\u001b[0;34m'hatch.linewidth'\u001b[0m\u001b[0;34m]\u001b[0m\u001b[0;34m\u001b[0m\u001b[0;34m\u001b[0m\u001b[0m\n\u001b[1;32m    752\u001b[0m         \u001b[0mself\u001b[0m\u001b[0;34m.\u001b[0m\u001b[0m_url\u001b[0m \u001b[0;34m=\u001b[0m \u001b[0;32mNone\u001b[0m\u001b[0;34m\u001b[0m\u001b[0;34m\u001b[0m\u001b[0m\n",
            "\u001b[0;32m/usr/local/lib/python3.7/dist-packages/matplotlib/colors.py\u001b[0m in \u001b[0;36mto_rgba\u001b[0;34m(c, alpha)\u001b[0m\n\u001b[1;32m    173\u001b[0m     \"\"\"\n\u001b[1;32m    174\u001b[0m     \u001b[0;31m# Special-case nth color syntax because it should not be cached.\u001b[0m\u001b[0;34m\u001b[0m\u001b[0;34m\u001b[0m\u001b[0;34m\u001b[0m\u001b[0m\n\u001b[0;32m--> 175\u001b[0;31m     \u001b[0;32mif\u001b[0m \u001b[0m_is_nth_color\u001b[0m\u001b[0;34m(\u001b[0m\u001b[0mc\u001b[0m\u001b[0;34m)\u001b[0m\u001b[0;34m:\u001b[0m\u001b[0;34m\u001b[0m\u001b[0;34m\u001b[0m\u001b[0m\n\u001b[0m\u001b[1;32m    176\u001b[0m         \u001b[0;32mfrom\u001b[0m \u001b[0mmatplotlib\u001b[0m \u001b[0;32mimport\u001b[0m \u001b[0mrcParams\u001b[0m\u001b[0;34m\u001b[0m\u001b[0;34m\u001b[0m\u001b[0m\n\u001b[1;32m    177\u001b[0m         \u001b[0mprop_cycler\u001b[0m \u001b[0;34m=\u001b[0m \u001b[0mrcParams\u001b[0m\u001b[0;34m[\u001b[0m\u001b[0;34m'axes.prop_cycle'\u001b[0m\u001b[0;34m]\u001b[0m\u001b[0;34m\u001b[0m\u001b[0;34m\u001b[0m\u001b[0m\n",
            "\u001b[0;32m/usr/local/lib/python3.7/dist-packages/matplotlib/colors.py\u001b[0m in \u001b[0;36m_is_nth_color\u001b[0;34m(c)\u001b[0m\n\u001b[1;32m    123\u001b[0m \u001b[0;32mdef\u001b[0m \u001b[0m_is_nth_color\u001b[0m\u001b[0;34m(\u001b[0m\u001b[0mc\u001b[0m\u001b[0;34m)\u001b[0m\u001b[0;34m:\u001b[0m\u001b[0;34m\u001b[0m\u001b[0;34m\u001b[0m\u001b[0m\n\u001b[1;32m    124\u001b[0m     \u001b[0;34m\"\"\"Return whether *c* can be interpreted as an item in the color cycle.\"\"\"\u001b[0m\u001b[0;34m\u001b[0m\u001b[0;34m\u001b[0m\u001b[0m\n\u001b[0;32m--> 125\u001b[0;31m     \u001b[0;32mreturn\u001b[0m \u001b[0misinstance\u001b[0m\u001b[0;34m(\u001b[0m\u001b[0mc\u001b[0m\u001b[0;34m,\u001b[0m \u001b[0mstr\u001b[0m\u001b[0;34m)\u001b[0m \u001b[0;32mand\u001b[0m \u001b[0mre\u001b[0m\u001b[0;34m.\u001b[0m\u001b[0mmatch\u001b[0m\u001b[0;34m(\u001b[0m\u001b[0;34mr\"\\AC[0-9]+\\Z\"\u001b[0m\u001b[0;34m,\u001b[0m \u001b[0mc\u001b[0m\u001b[0;34m)\u001b[0m\u001b[0;34m\u001b[0m\u001b[0;34m\u001b[0m\u001b[0m\n\u001b[0m\u001b[1;32m    126\u001b[0m \u001b[0;34m\u001b[0m\u001b[0m\n\u001b[1;32m    127\u001b[0m \u001b[0;34m\u001b[0m\u001b[0m\n",
            "\u001b[0;31mKeyboardInterrupt\u001b[0m: "
          ]
        }
      ],
      "metadata": {
        "colab": {
          "base_uri": "https://localhost:8080/",
          "height": 724
        },
        "id": "JcZWBpj2Qitm",
        "outputId": "2d5c642e-9720-49dc-ef8e-841ce8c639fa"
      }
    },
    {
      "cell_type": "code",
      "execution_count": 21,
      "source": [
        "df.info()"
      ],
      "outputs": [
        {
          "output_type": "stream",
          "name": "stdout",
          "text": [
            "<class 'pandas.core.frame.DataFrame'>\n",
            "RangeIndex: 200000 entries, 0 to 199999\n",
            "Data columns (total 21 columns):\n",
            " #   Column                  Non-Null Count   Dtype \n",
            "---  ------                  --------------   ----- \n",
            " 0   id                      200000 non-null  object\n",
            " 1   subreddit_id            200000 non-null  object\n",
            " 2   created_utc             200000 non-null  object\n",
            " 3   score_hidden            200000 non-null  bool  \n",
            " 4   link_id                 200000 non-null  object\n",
            " 5   edited                  200000 non-null  object\n",
            " 6   parent_id               200000 non-null  object\n",
            " 7   score                   200000 non-null  int64 \n",
            " 8   ups                     200000 non-null  int64 \n",
            " 9   downs                   200000 non-null  int64 \n",
            " 10  author_flair_css_class  3981 non-null    object\n",
            " 11  retrieved_on            200000 non-null  int64 \n",
            " 12  gilded                  200000 non-null  int64 \n",
            " 13  controversiality        200000 non-null  int64 \n",
            " 14  author                  200000 non-null  object\n",
            " 15  author_flair_text       3651 non-null    object\n",
            " 16  distinguished           72 non-null      object\n",
            " 17  body                    200000 non-null  object\n",
            " 18  name                    200000 non-null  object\n",
            " 19  subreddit               200000 non-null  object\n",
            " 20  archived                200000 non-null  bool  \n",
            "dtypes: bool(2), int64(6), object(13)\n",
            "memory usage: 29.4+ MB\n"
          ]
        }
      ],
      "metadata": {
        "id": "oOc9AKT42Gxc",
        "colab": {
          "base_uri": "https://localhost:8080/"
        },
        "outputId": "5e9e9ca7-e007-444e-e6ce-da85cf5dfad3"
      }
    },
    {
      "cell_type": "code",
      "execution_count": 22,
      "source": [
        "df.value_counts()"
      ],
      "outputs": [
        {
          "output_type": "execute_result",
          "data": {
            "text/plain": [
              "id       subreddit_id  created_utc  score_hidden  link_id   edited  parent_id   score  ups  downs  author_flair_css_class  retrieved_on  gilded  controversiality  author        author_flair_text               distinguished  body                                                                                                                                                                                                                                                                                                                                                                                                                                                                                                                                                                                                                                                                                                                                                                                                                                                                                                                                                                                          name        subreddit          archived\n",
              "c0lgy7d  t5_2reym      1267564945   False         t3_b8350  False   t1_c0lg1wt   1      1   0      default                 1426230052    0       0                 strychnine    Lovebane                        moderator      No; ICC10 is really the only content worth running aside from ToGC and ToTC25.  This doesn't mean we won't run the other content, but it may not be part of the schedule like ICC and ToGC.                                                                                                                                                                                                                                                                                                                                                                                                                                                                                                                                                                                                                                                                                                                                                                                                   t1_c0lgy7d  redditguild        True        1\n",
              "c0lgo7t  t5_2qhk2      1267558101   False         t3_b8959  True    t3_b8959     4      4   0      flair-gamertag          1426229922    0       0                 HardwareLust  Moderator                       moderator      I cannot speak for the UK,  but here in the U.S., it is technically not legal for you to \"backup\" your game discs.   (The legal issue at hand is the reverse-engineered code that is necessary to break the copy protection on the disc, but that is a long discussion for another day.) \\n\\nThere are, of course, tools available online from shady and not-so-shady places that will allow you to \"backup\" your discs, but the only way you could ever play a \"backup\" disc would be to play it on a modded console, which you can never use on Xbox Live.\\n\\nSpeaking from personal experience, if you load your games on the HDD, the console must only spin the disc for a few moments at game startup, and then after that it shuts down, so wear and tear on your discs in daily use is very minimal.  \\n\\nIn many years of Xbox, 360, PS2, PS3, etc. console ownership, I have never had a disc wear out.  I have lost them and had them stolen yes, but I have never worn one out.   t1_c0lgo7t  xbox360            True        1\n",
              "c0lgdmn  t5_2qka0      1267550667   False         t3_b89c7  False   t1_c0lgdhg   14     14  0      spyblu                  1426229785    0       0                 ReaverXai                                     moderator      It's simple, I have a little button.                                                                                                                                                                                                                                                                                                                                                                                                                                                                                                                                                                                                                                                                                                                                                                                                                                                                                                                                                          t1_c0lgdmn  tf2                True        1\n",
              "c0lgdf2  t5_2qka0      1267550525   False         t3_b89c7  False   t1_c0lgd84   34     34  0      spyblu                  1426229784    0       0                 ReaverXai                                     moderator      Holy shit I'm Green.                                                                                                                                                                                                                                                                                                                                                                                                                                                                                                                                                                                                                                                                                                                                                                                                                                                                                                                                                                          t1_c0lgdf2  tf2                True        1\n",
              "c0lg2d6  t5_2qi58      1267540616   False         t3_b865j  False   t3_b865j     3      3   0      1                       1426229639    0       0                 9jack9        Arsenal                         moderator      I almost turned off the downvote buttons today but thought better of it.\\n\\nDownvoting was a real problem in /r/tvcritic/ until we switched it off and it's now a lot better:\\n\\nhttp://www.reddit.com/r/tvcritic/\\n\\nI can do that here if you guys want.                                                                                                                                                                                                                                                                                                                                                                                                                                                                                                                                                                                                                                                                                                                                    t1_c0lg2d6  soccer             True        1\n",
              "c0lfwcp  t5_2qhix      1267529440   False         t3_b84z9  False   t1_c0lfu00   2      2   0                              1426229561    0       0                 anonymous7    guyupstairs [rangevsrange.com]  moderator      It's not a mod. Lots of posts are automatically banned. Basically I think the algorithm is designed to accept a few false positives for the sake of very few false negatives.\\n\\nI've unbanned your post.\\n\\nAlso if anyone ever sees this, send a message to the moderators and someone will unban your post. (I've done this for the above.)                                                                                                                                                                                                                                                                                                                                                                                                                                                                                                                                                                                                                                                t1_c0lfwcp  poker              True        1\n",
              "c0lfubo  t5_2qi58      1267523929   False         t3_b7zk7  False   t1_c0lfqew   5      5   0      1                       1426229536    0       0                 9jack9        Arsenal                         moderator      It's hard to do that effectively (self posts only I think). Also, it would only work in the soccer subreddit. You would still see the scores on the main page.\\n\\nI think the whiners should just leave. Why don't they ask the BBC to remove \"spoilers\" from their web pages? Let's purge the internet, radio and TV of spoilers! It's all about me!                                                                                                                                                                                                                                                                                                                                                                                                                                                                                                                                                                                                                                         t1_c0lfubo  soccer             True        1\n",
              "c0le6ts  t5_2qqhi      1267467820   False         t3_b7k4r  False   t1_c0ldkhx  -2     -2   0      bulb2                   1426228750    0       0                 ketralnis     Such Alumni                     admin          I don't appreciate the impersonation                                                                                                                                                                                                                                                                                                                                                                                                                                                                                                                                                                                                                                                                                                                                                                                                                                                                                                                                                          t1_c0le6ts  ideasfortheadmins  True        1\n",
              "c0le3bo  t5_2qhk2      1267464974   False         t3_b7uej  False   t1_c0le2u7   1      1   0      flair-gamertag          1426228705    0       0                 HardwareLust  Moderator                       moderator      I don't know.  I noticed that this morning.  I am gobsmacked as well.                                                                                                                                                                                                                                                                                                                                                                                                                                                                                                                                                                                                                                                                                                                                                                                                                                                                                                                         t1_c0le3bo  xbox360            True        1\n",
              "c0ld334  t5_2reym      1267417503   False         t3_b7j2w  False   t1_c0lcuip   1      1   0      default                 1426228235    0       0                 strychnine    Lovebane                        moderator      Don't worry... I'm not going to forget about the middle-men.  They are just as much a part of the guild as anyone else.  I'll outline bank access in my next update.                                                                                                                                                                                                                                                                                                                                                                                                                                                                                                                                                                                                                                                                                                                                                                                                                          t1_c0ld334  redditguild        True        1\n",
              "dtype: int64"
            ]
          },
          "metadata": {
            "tags": []
          },
          "execution_count": 22
        }
      ],
      "metadata": {
        "colab": {
          "base_uri": "https://localhost:8080/"
        },
        "id": "4sgEdZvBwxuK",
        "outputId": "c15bc754-f1dd-4ebb-a1d5-a52b790c9f7f"
      }
    },
    {
      "cell_type": "code",
      "execution_count": 23,
      "source": [
        "corelation = df.corr()  \r\n",
        "fig, ax = plt.subplots(figsize=(8,8))\r\n",
        "sns.heatmap(df.corr(), annot = True)    "
      ],
      "outputs": [
        {
          "output_type": "execute_result",
          "data": {
            "text/plain": [
              "<matplotlib.axes._subplots.AxesSubplot at 0x7fc7af5b78d0>"
            ]
          },
          "metadata": {
            "tags": []
          },
          "execution_count": 23
        }
      ],
      "metadata": {
        "colab": {
          "base_uri": "https://localhost:8080/"
        },
        "id": "WzVohKA-xQ9D",
        "outputId": "d2ac2d16-b447-4fa6-c74d-26b81315f126"
      }
    },
    {
      "cell_type": "code",
      "execution_count": 24,
      "source": [
        "import numpy as np\r\n",
        "\r\n",
        "plt.figure(figsize=(25, 10))\r\n",
        "\r\n",
        "corr = df.apply(lambda x: pd.factorize(x)[0]).corr()\r\n",
        "\r\n",
        "mask = np.triu(np.ones_like(corr, dtype=bool))\r\n",
        "\r\n",
        "ax = sns.heatmap(corr, mask=mask, xticklabels=corr.columns, yticklabels=corr.columns, annot=True, linewidths=.2, cmap='coolwarm', vmin=-1, vmax=1)"
      ],
      "outputs": [],
      "metadata": {
        "id": "Sy7fqDMdxRFt"
      }
    },
    {
      "cell_type": "code",
      "execution_count": 25,
      "source": [
        "#sorting the dataset to delete the duplicates, to make duplicates come together one after another. The sorted dataset index values are also changed\r\n",
        "cols = list(df.columns)\r\n",
        "df.sort_values(by=cols, inplace=True, ignore_index=True)\r\n",
        "df[df.duplicated(keep=False)]"
      ],
      "outputs": [
        {
          "output_type": "execute_result",
          "data": {
            "text/plain": [
              "Empty DataFrame\n",
              "Columns: [id, subreddit_id, created_utc, score_hidden, link_id, edited, parent_id, score, ups, downs, author_flair_css_class, retrieved_on, gilded, controversiality, author, author_flair_text, distinguished, body, name, subreddit, archived]\n",
              "Index: []"
            ],
            "text/html": [
              "<div>\n",
              "<style scoped>\n",
              "    .dataframe tbody tr th:only-of-type {\n",
              "        vertical-align: middle;\n",
              "    }\n",
              "\n",
              "    .dataframe tbody tr th {\n",
              "        vertical-align: top;\n",
              "    }\n",
              "\n",
              "    .dataframe thead th {\n",
              "        text-align: right;\n",
              "    }\n",
              "</style>\n",
              "<table border=\"1\" class=\"dataframe\">\n",
              "  <thead>\n",
              "    <tr style=\"text-align: right;\">\n",
              "      <th></th>\n",
              "      <th>id</th>\n",
              "      <th>subreddit_id</th>\n",
              "      <th>created_utc</th>\n",
              "      <th>score_hidden</th>\n",
              "      <th>link_id</th>\n",
              "      <th>edited</th>\n",
              "      <th>parent_id</th>\n",
              "      <th>score</th>\n",
              "      <th>ups</th>\n",
              "      <th>downs</th>\n",
              "      <th>author_flair_css_class</th>\n",
              "      <th>retrieved_on</th>\n",
              "      <th>gilded</th>\n",
              "      <th>controversiality</th>\n",
              "      <th>author</th>\n",
              "      <th>author_flair_text</th>\n",
              "      <th>distinguished</th>\n",
              "      <th>body</th>\n",
              "      <th>name</th>\n",
              "      <th>subreddit</th>\n",
              "      <th>archived</th>\n",
              "    </tr>\n",
              "  </thead>\n",
              "  <tbody>\n",
              "  </tbody>\n",
              "</table>\n",
              "</div>"
            ]
          },
          "metadata": {
            "tags": []
          },
          "execution_count": 25
        }
      ],
      "metadata": {
        "colab": {
          "base_uri": "https://localhost:8080/",
          "height": 69
        },
        "id": "xBr_QawPxRKo",
        "outputId": "1d117635-9cd1-4c42-c07e-68880fb15d8b"
      }
    },
    {
      "cell_type": "code",
      "execution_count": 26,
      "source": [
        "df.drop_duplicates(keep='last', inplace=True, ignore_index=True)"
      ],
      "outputs": [],
      "metadata": {
        "id": "z3L-xICn4pfR"
      }
    },
    {
      "cell_type": "code",
      "execution_count": 27,
      "source": [
        "df.duplicated().sum()"
      ],
      "outputs": [
        {
          "output_type": "execute_result",
          "data": {
            "text/plain": [
              "0"
            ]
          },
          "metadata": {
            "tags": []
          },
          "execution_count": 27
        }
      ],
      "metadata": {
        "colab": {
          "base_uri": "https://localhost:8080/"
        },
        "id": "OAx3ZaQO4piO",
        "outputId": "ea6f1df2-3a32-4c66-cb23-a1cbd8d9a4c4"
      }
    },
    {
      "cell_type": "code",
      "execution_count": 28,
      "source": [
        "df.isnull().mean()"
      ],
      "outputs": [
        {
          "output_type": "execute_result",
          "data": {
            "text/plain": [
              "id                        0.000000\n",
              "subreddit_id              0.000000\n",
              "created_utc               0.000000\n",
              "score_hidden              0.000000\n",
              "link_id                   0.000000\n",
              "edited                    0.000000\n",
              "parent_id                 0.000000\n",
              "score                     0.000000\n",
              "ups                       0.000000\n",
              "downs                     0.000000\n",
              "author_flair_css_class    0.980095\n",
              "retrieved_on              0.000000\n",
              "gilded                    0.000000\n",
              "controversiality          0.000000\n",
              "author                    0.000000\n",
              "author_flair_text         0.981745\n",
              "distinguished             0.999640\n",
              "body                      0.000000\n",
              "name                      0.000000\n",
              "subreddit                 0.000000\n",
              "archived                  0.000000\n",
              "dtype: float64"
            ]
          },
          "metadata": {
            "tags": []
          },
          "execution_count": 28
        }
      ],
      "metadata": {
        "colab": {
          "base_uri": "https://localhost:8080/"
        },
        "id": "hfNA735kxWoo",
        "outputId": "18711cdd-68ad-4954-d503-b1c97b00fd4c"
      }
    },
    {
      "cell_type": "code",
      "execution_count": 30,
      "source": [
        "df = df.dropna()"
      ],
      "outputs": [],
      "metadata": {
        "id": "ZnGCKfhSzqor"
      }
    },
    {
      "cell_type": "code",
      "execution_count": 31,
      "source": [
        "df.isnull().mean()"
      ],
      "outputs": [
        {
          "output_type": "execute_result",
          "data": {
            "text/plain": [
              "id                        0.0\n",
              "subreddit_id              0.0\n",
              "created_utc               0.0\n",
              "score_hidden              0.0\n",
              "link_id                   0.0\n",
              "edited                    0.0\n",
              "parent_id                 0.0\n",
              "score                     0.0\n",
              "ups                       0.0\n",
              "downs                     0.0\n",
              "author_flair_css_class    0.0\n",
              "retrieved_on              0.0\n",
              "gilded                    0.0\n",
              "controversiality          0.0\n",
              "author                    0.0\n",
              "author_flair_text         0.0\n",
              "distinguished             0.0\n",
              "body                      0.0\n",
              "name                      0.0\n",
              "subreddit                 0.0\n",
              "archived                  0.0\n",
              "dtype: float64"
            ]
          },
          "metadata": {
            "tags": []
          },
          "execution_count": 31
        }
      ],
      "metadata": {
        "colab": {
          "base_uri": "https://localhost:8080/"
        },
        "id": "x7u-Lu0Z12O3",
        "outputId": "b4ce2d3c-fb6a-4d5d-ecb0-83e19db78c94"
      }
    },
    {
      "cell_type": "code",
      "execution_count": 33,
      "source": [
        "df.head()"
      ],
      "outputs": [
        {
          "output_type": "execute_result",
          "data": {
            "text/plain": [
              "             id subreddit_id  ...          subreddit  archived\n",
              "13550   c0ld334     t5_2reym  ...        redditguild      True\n",
              "60337   c0le3bo     t5_2qhk2  ...            xbox360      True\n",
              "64868   c0le6ts     t5_2qqhi  ...  ideasfortheadmins      True\n",
              "141750  c0lfubo     t5_2qi58  ...             soccer      True\n",
              "144374  c0lfwcp     t5_2qhix  ...              poker      True\n",
              "\n",
              "[5 rows x 21 columns]"
            ],
            "text/html": [
              "<div>\n",
              "<style scoped>\n",
              "    .dataframe tbody tr th:only-of-type {\n",
              "        vertical-align: middle;\n",
              "    }\n",
              "\n",
              "    .dataframe tbody tr th {\n",
              "        vertical-align: top;\n",
              "    }\n",
              "\n",
              "    .dataframe thead th {\n",
              "        text-align: right;\n",
              "    }\n",
              "</style>\n",
              "<table border=\"1\" class=\"dataframe\">\n",
              "  <thead>\n",
              "    <tr style=\"text-align: right;\">\n",
              "      <th></th>\n",
              "      <th>id</th>\n",
              "      <th>subreddit_id</th>\n",
              "      <th>created_utc</th>\n",
              "      <th>score_hidden</th>\n",
              "      <th>link_id</th>\n",
              "      <th>edited</th>\n",
              "      <th>parent_id</th>\n",
              "      <th>score</th>\n",
              "      <th>ups</th>\n",
              "      <th>downs</th>\n",
              "      <th>author_flair_css_class</th>\n",
              "      <th>retrieved_on</th>\n",
              "      <th>gilded</th>\n",
              "      <th>controversiality</th>\n",
              "      <th>author</th>\n",
              "      <th>author_flair_text</th>\n",
              "      <th>distinguished</th>\n",
              "      <th>body</th>\n",
              "      <th>name</th>\n",
              "      <th>subreddit</th>\n",
              "      <th>archived</th>\n",
              "    </tr>\n",
              "  </thead>\n",
              "  <tbody>\n",
              "    <tr>\n",
              "      <th>13550</th>\n",
              "      <td>c0ld334</td>\n",
              "      <td>t5_2reym</td>\n",
              "      <td>1267417503</td>\n",
              "      <td>False</td>\n",
              "      <td>t3_b7j2w</td>\n",
              "      <td>False</td>\n",
              "      <td>t1_c0lcuip</td>\n",
              "      <td>1</td>\n",
              "      <td>1</td>\n",
              "      <td>0</td>\n",
              "      <td>default</td>\n",
              "      <td>1426228235</td>\n",
              "      <td>0</td>\n",
              "      <td>0</td>\n",
              "      <td>strychnine</td>\n",
              "      <td>Lovebane</td>\n",
              "      <td>moderator</td>\n",
              "      <td>Don't worry... I'm not going to forget about t...</td>\n",
              "      <td>t1_c0ld334</td>\n",
              "      <td>redditguild</td>\n",
              "      <td>True</td>\n",
              "    </tr>\n",
              "    <tr>\n",
              "      <th>60337</th>\n",
              "      <td>c0le3bo</td>\n",
              "      <td>t5_2qhk2</td>\n",
              "      <td>1267464974</td>\n",
              "      <td>False</td>\n",
              "      <td>t3_b7uej</td>\n",
              "      <td>False</td>\n",
              "      <td>t1_c0le2u7</td>\n",
              "      <td>1</td>\n",
              "      <td>1</td>\n",
              "      <td>0</td>\n",
              "      <td>flair-gamertag</td>\n",
              "      <td>1426228705</td>\n",
              "      <td>0</td>\n",
              "      <td>0</td>\n",
              "      <td>HardwareLust</td>\n",
              "      <td>Moderator</td>\n",
              "      <td>moderator</td>\n",
              "      <td>I don't know.  I noticed that this morning.  I...</td>\n",
              "      <td>t1_c0le3bo</td>\n",
              "      <td>xbox360</td>\n",
              "      <td>True</td>\n",
              "    </tr>\n",
              "    <tr>\n",
              "      <th>64868</th>\n",
              "      <td>c0le6ts</td>\n",
              "      <td>t5_2qqhi</td>\n",
              "      <td>1267467820</td>\n",
              "      <td>False</td>\n",
              "      <td>t3_b7k4r</td>\n",
              "      <td>False</td>\n",
              "      <td>t1_c0ldkhx</td>\n",
              "      <td>-2</td>\n",
              "      <td>-2</td>\n",
              "      <td>0</td>\n",
              "      <td>bulb2</td>\n",
              "      <td>1426228750</td>\n",
              "      <td>0</td>\n",
              "      <td>0</td>\n",
              "      <td>ketralnis</td>\n",
              "      <td>Such Alumni</td>\n",
              "      <td>admin</td>\n",
              "      <td>I don't appreciate the impersonation</td>\n",
              "      <td>t1_c0le6ts</td>\n",
              "      <td>ideasfortheadmins</td>\n",
              "      <td>True</td>\n",
              "    </tr>\n",
              "    <tr>\n",
              "      <th>141750</th>\n",
              "      <td>c0lfubo</td>\n",
              "      <td>t5_2qi58</td>\n",
              "      <td>1267523929</td>\n",
              "      <td>False</td>\n",
              "      <td>t3_b7zk7</td>\n",
              "      <td>False</td>\n",
              "      <td>t1_c0lfqew</td>\n",
              "      <td>5</td>\n",
              "      <td>5</td>\n",
              "      <td>0</td>\n",
              "      <td>1</td>\n",
              "      <td>1426229536</td>\n",
              "      <td>0</td>\n",
              "      <td>0</td>\n",
              "      <td>9jack9</td>\n",
              "      <td>Arsenal</td>\n",
              "      <td>moderator</td>\n",
              "      <td>It's hard to do that effectively (self posts o...</td>\n",
              "      <td>t1_c0lfubo</td>\n",
              "      <td>soccer</td>\n",
              "      <td>True</td>\n",
              "    </tr>\n",
              "    <tr>\n",
              "      <th>144374</th>\n",
              "      <td>c0lfwcp</td>\n",
              "      <td>t5_2qhix</td>\n",
              "      <td>1267529440</td>\n",
              "      <td>False</td>\n",
              "      <td>t3_b84z9</td>\n",
              "      <td>False</td>\n",
              "      <td>t1_c0lfu00</td>\n",
              "      <td>2</td>\n",
              "      <td>2</td>\n",
              "      <td>0</td>\n",
              "      <td></td>\n",
              "      <td>1426229561</td>\n",
              "      <td>0</td>\n",
              "      <td>0</td>\n",
              "      <td>anonymous7</td>\n",
              "      <td>guyupstairs [rangevsrange.com]</td>\n",
              "      <td>moderator</td>\n",
              "      <td>It's not a mod. Lots of posts are automaticall...</td>\n",
              "      <td>t1_c0lfwcp</td>\n",
              "      <td>poker</td>\n",
              "      <td>True</td>\n",
              "    </tr>\n",
              "  </tbody>\n",
              "</table>\n",
              "</div>"
            ]
          },
          "metadata": {
            "tags": []
          },
          "execution_count": 33
        }
      ],
      "metadata": {
        "colab": {
          "base_uri": "https://localhost:8080/",
          "height": 475
        },
        "id": "1Xk9DW270dy_",
        "outputId": "7b21a4f1-8629-45c1-f430-4153a8198dd5"
      }
    },
    {
      "cell_type": "code",
      "execution_count": 34,
      "source": [
        "numeric_cols = ['ups','downs','retrieved_on','gilded', 'controversiality',]\r\n",
        "bool_cols = ['score_hidden','edited','archived']\r\n",
        "cat_cols = ['subreddit','distinguished','author_flair_css_class','author_flair_text']"
      ],
      "outputs": [],
      "metadata": {
        "id": "GtzGbzg50ff9"
      }
    },
    {
      "cell_type": "code",
      "execution_count": 35,
      "source": [
        "from sklearn.preprocessing import LabelBinarizer"
      ],
      "outputs": [],
      "metadata": {
        "id": "CCXT_n-o2nx-"
      }
    },
    {
      "cell_type": "code",
      "execution_count": 36,
      "source": [
        "lb = LabelBinarizer()\r\n",
        "cat = [lb.fit_transform(df[col]) for col in cat_cols]\r\n",
        "bol = [df[col].astype('int') for col in bool_cols]\r\n",
        "t = df.loc[:, numeric_cols].values\r\n",
        "final = [t] + bol + cat\r\n",
        "y = df.score.values\r\n",
        "x = np.column_stack(tuple(final))"
      ],
      "outputs": [],
      "metadata": {
        "id": "KJHhSPj-2sUP"
      }
    },
    {
      "cell_type": "code",
      "execution_count": 37,
      "source": [
        "from sklearn.model_selection import train_test_split\r\n",
        "X_train, X_test, y_train, y_test = train_test_split(x, y, test_size=0.2, random_state=10)"
      ],
      "outputs": [],
      "metadata": {
        "id": "DAXfg1DG2zJC"
      }
    },
    {
      "cell_type": "code",
      "execution_count": 38,
      "source": [
        "from sklearn.ensemble import RandomForestRegressor"
      ],
      "outputs": [],
      "metadata": {
        "id": "CgXyyolJdu_w"
      }
    },
    {
      "cell_type": "code",
      "execution_count": 40,
      "source": [
        "rf = RandomForestRegressor(n_jobs=-1, n_estimators=70, min_samples_leaf=10, random_state = 10)\r\n",
        "rf.fit(X_train, y_train)"
      ],
      "outputs": [
        {
          "output_type": "execute_result",
          "data": {
            "text/plain": [
              "RandomForestRegressor(bootstrap=True, ccp_alpha=0.0, criterion='mse',\n",
              "                      max_depth=None, max_features='auto', max_leaf_nodes=None,\n",
              "                      max_samples=None, min_impurity_decrease=0.0,\n",
              "                      min_impurity_split=None, min_samples_leaf=10,\n",
              "                      min_samples_split=2, min_weight_fraction_leaf=0.0,\n",
              "                      n_estimators=70, n_jobs=-1, oob_score=False,\n",
              "                      random_state=10, verbose=0, warm_start=False)"
            ]
          },
          "metadata": {
            "tags": []
          },
          "execution_count": 40
        }
      ],
      "metadata": {
        "id": "reVTTcDV4plC",
        "colab": {
          "base_uri": "https://localhost:8080/"
        },
        "outputId": "3f0d7c09-e6a0-4622-a410-7c9425a25b68"
      }
    },
    {
      "cell_type": "code",
      "execution_count": 55,
      "source": [
        "y_predicted = rf.predict(X_test)"
      ],
      "outputs": [],
      "metadata": {
        "id": "xbCT0yFH4prd"
      }
    },
    {
      "cell_type": "code",
      "execution_count": 57,
      "source": [
        "y_predicted"
      ],
      "outputs": [
        {
          "output_type": "execute_result",
          "data": {
            "text/plain": [
              "array([7.78571429, 7.78571429])"
            ]
          },
          "metadata": {
            "tags": []
          },
          "execution_count": 57
        }
      ],
      "metadata": {
        "colab": {
          "base_uri": "https://localhost:8080/"
        },
        "id": "IxxIKkls6I8M",
        "outputId": "3e21c289-aefd-423b-c7fb-59f48306a414"
      }
    }
  ]
}